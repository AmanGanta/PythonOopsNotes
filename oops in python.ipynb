{
 "cells": [
  {
   "cell_type": "markdown",
   "metadata": {},
   "source": [
    "class\n",
    "--------\n",
    "a class is a blueprint of an object which defines all the properties and fuctions of an object\n"
   ]
  },
  {
   "cell_type": "markdown",
   "metadata": {},
   "source": [
    "object \n",
    "--------\n",
    "an object is a instance of an class\n",
    "\n",
    "ex:\n",
    "class-- building plan        \n",
    "object-- building\n",
    "\n",
    "-->for a class we can create multiple objects\n",
    "\n",
    "types of variables\n",
    "----------------------\n",
    "instance variables         \n",
    "static variables     \n",
    "local variables       \n",
    "\n",
    "types of methods\n",
    "----------------\n",
    "instance methods        \n",
    "class methods          \n",
    "static methods         \n",
    "\n",
    "NOTE:\n",
    "the functions which are declared inside a class are called methods\n",
    "outside a class then it is called funtion\n",
    "\n",
    "self is a reference variable for current object\n",
    "ex:remote to tv object\n",
    "\n"
   ]
  },
  {
   "cell_type": "markdown",
   "metadata": {},
   "source": [
    "## documentation for a class       \n",
    "the documentation for a class is used to define what a class is going to do or what is the class main idea     \n",
    "doc string is written using  '''doc ''' or \"\"\"doc\"\"\""
   ]
  },
  {
   "cell_type": "code",
   "execution_count": 16,
   "metadata": {},
   "outputs": [
    {
     "name": "stdout",
     "output_type": "stream",
     "text": [
      "hi this is a student class\n"
     ]
    }
   ],
   "source": [
    "class student:\n",
    "    '''hi this is a student class'''\n",
    "s=student()\n",
    "print(s.__doc__)"
   ]
  },
  {
   "cell_type": "markdown",
   "metadata": {},
   "source": [
    "## example of a student class"
   ]
  },
  {
   "cell_type": "code",
   "execution_count": 10,
   "metadata": {},
   "outputs": [
    {
     "name": "stdout",
     "output_type": "stream",
     "text": [
      "aman 20 98\n"
     ]
    }
   ],
   "source": [
    "class student:\n",
    "    def __init__(self,n,a,m):\n",
    "        self.name=n\n",
    "        self.age=a\n",
    "        self.marks=m\n",
    "    def talk(self):\n",
    "        print(self.name,self.age,self.marks)\n",
    "s=student('aman',20,98)\n",
    "s.talk()"
   ]
  },
  {
   "cell_type": "code",
   "execution_count": 17,
   "metadata": {},
   "outputs": [
    {
     "ename": "AttributeError",
     "evalue": "'student' object has no attribute 'marks'",
     "output_type": "error",
     "traceback": [
      "\u001b[1;31m---------------------------------------------------------------------------\u001b[0m",
      "\u001b[1;31mAttributeError\u001b[0m                            Traceback (most recent call last)",
      "\u001b[1;32m<ipython-input-17-c6fc24488b6b>\u001b[0m in \u001b[0;36m<module>\u001b[1;34m()\u001b[0m\n\u001b[0;32m      7\u001b[0m         \u001b[0mprint\u001b[0m\u001b[1;33m(\u001b[0m\u001b[0mself\u001b[0m\u001b[1;33m.\u001b[0m\u001b[0mname\u001b[0m\u001b[1;33m,\u001b[0m\u001b[0mself\u001b[0m\u001b[1;33m.\u001b[0m\u001b[0mage\u001b[0m\u001b[1;33m,\u001b[0m\u001b[0mself\u001b[0m\u001b[1;33m.\u001b[0m\u001b[0mmarks\u001b[0m\u001b[1;33m)\u001b[0m\u001b[1;33m\u001b[0m\u001b[0m\n\u001b[0;32m      8\u001b[0m \u001b[0ms\u001b[0m\u001b[1;33m=\u001b[0m\u001b[0mstudent\u001b[0m\u001b[1;33m(\u001b[0m\u001b[1;34m'aman'\u001b[0m\u001b[1;33m,\u001b[0m\u001b[1;36m20\u001b[0m\u001b[1;33m,\u001b[0m\u001b[1;36m98\u001b[0m\u001b[1;33m)\u001b[0m\u001b[1;33m\u001b[0m\u001b[0m\n\u001b[1;32m----> 9\u001b[1;33m \u001b[0ms\u001b[0m\u001b[1;33m.\u001b[0m\u001b[0mtalk\u001b[0m\u001b[1;33m(\u001b[0m\u001b[1;33m)\u001b[0m\u001b[1;33m\u001b[0m\u001b[0m\n\u001b[0m",
      "\u001b[1;32m<ipython-input-17-c6fc24488b6b>\u001b[0m in \u001b[0;36mtalk\u001b[1;34m(self)\u001b[0m\n\u001b[0;32m      5\u001b[0m         \u001b[0mmarks\u001b[0m\u001b[1;33m=\u001b[0m\u001b[0mm\u001b[0m\u001b[1;33m\u001b[0m\u001b[0m\n\u001b[0;32m      6\u001b[0m     \u001b[1;32mdef\u001b[0m \u001b[0mtalk\u001b[0m\u001b[1;33m(\u001b[0m\u001b[0mself\u001b[0m\u001b[1;33m)\u001b[0m\u001b[1;33m:\u001b[0m\u001b[1;33m\u001b[0m\u001b[0m\n\u001b[1;32m----> 7\u001b[1;33m         \u001b[0mprint\u001b[0m\u001b[1;33m(\u001b[0m\u001b[0mself\u001b[0m\u001b[1;33m.\u001b[0m\u001b[0mname\u001b[0m\u001b[1;33m,\u001b[0m\u001b[0mself\u001b[0m\u001b[1;33m.\u001b[0m\u001b[0mage\u001b[0m\u001b[1;33m,\u001b[0m\u001b[0mself\u001b[0m\u001b[1;33m.\u001b[0m\u001b[0mmarks\u001b[0m\u001b[1;33m)\u001b[0m\u001b[1;33m\u001b[0m\u001b[0m\n\u001b[0m\u001b[0;32m      8\u001b[0m \u001b[0ms\u001b[0m\u001b[1;33m=\u001b[0m\u001b[0mstudent\u001b[0m\u001b[1;33m(\u001b[0m\u001b[1;34m'aman'\u001b[0m\u001b[1;33m,\u001b[0m\u001b[1;36m20\u001b[0m\u001b[1;33m,\u001b[0m\u001b[1;36m98\u001b[0m\u001b[1;33m)\u001b[0m\u001b[1;33m\u001b[0m\u001b[0m\n\u001b[0;32m      9\u001b[0m \u001b[0ms\u001b[0m\u001b[1;33m.\u001b[0m\u001b[0mtalk\u001b[0m\u001b[1;33m(\u001b[0m\u001b[1;33m)\u001b[0m\u001b[1;33m\u001b[0m\u001b[0m\n",
      "\u001b[1;31mAttributeError\u001b[0m: 'student' object has no attribute 'marks'"
     ]
    }
   ],
   "source": [
    "class student:\n",
    "    def __init__(self,n,a,m):\n",
    "        self.name=n\n",
    "        self.age=a\n",
    "        marks=m\n",
    "    def talk(self):\n",
    "        print(self.name,self.age,self.marks)\n",
    "s=student('aman',20,98)\n",
    "s.talk()"
   ]
  },
  {
   "cell_type": "code",
   "execution_count": 18,
   "metadata": {},
   "outputs": [
    {
     "ename": "NameError",
     "evalue": "name 'marks' is not defined",
     "output_type": "error",
     "traceback": [
      "\u001b[1;31m---------------------------------------------------------------------------\u001b[0m",
      "\u001b[1;31mNameError\u001b[0m                                 Traceback (most recent call last)",
      "\u001b[1;32m<ipython-input-18-33fabf362103>\u001b[0m in \u001b[0;36m<module>\u001b[1;34m()\u001b[0m\n\u001b[0;32m      7\u001b[0m         \u001b[0mprint\u001b[0m\u001b[1;33m(\u001b[0m\u001b[0mself\u001b[0m\u001b[1;33m.\u001b[0m\u001b[0mname\u001b[0m\u001b[1;33m,\u001b[0m\u001b[0mself\u001b[0m\u001b[1;33m.\u001b[0m\u001b[0mage\u001b[0m\u001b[1;33m,\u001b[0m\u001b[0mmarks\u001b[0m\u001b[1;33m)\u001b[0m\u001b[1;33m\u001b[0m\u001b[0m\n\u001b[0;32m      8\u001b[0m \u001b[0ms\u001b[0m\u001b[1;33m=\u001b[0m\u001b[0mstudent\u001b[0m\u001b[1;33m(\u001b[0m\u001b[1;34m'aman'\u001b[0m\u001b[1;33m,\u001b[0m\u001b[1;36m20\u001b[0m\u001b[1;33m,\u001b[0m\u001b[1;36m98\u001b[0m\u001b[1;33m)\u001b[0m\u001b[1;33m\u001b[0m\u001b[0m\n\u001b[1;32m----> 9\u001b[1;33m \u001b[0ms\u001b[0m\u001b[1;33m.\u001b[0m\u001b[0mtalk\u001b[0m\u001b[1;33m(\u001b[0m\u001b[1;33m)\u001b[0m\u001b[1;33m\u001b[0m\u001b[0m\n\u001b[0m",
      "\u001b[1;32m<ipython-input-18-33fabf362103>\u001b[0m in \u001b[0;36mtalk\u001b[1;34m(self)\u001b[0m\n\u001b[0;32m      5\u001b[0m         \u001b[0mself\u001b[0m\u001b[1;33m.\u001b[0m\u001b[0mmarks\u001b[0m\u001b[1;33m=\u001b[0m\u001b[0mm\u001b[0m\u001b[1;33m\u001b[0m\u001b[0m\n\u001b[0;32m      6\u001b[0m     \u001b[1;32mdef\u001b[0m \u001b[0mtalk\u001b[0m\u001b[1;33m(\u001b[0m\u001b[0mself\u001b[0m\u001b[1;33m)\u001b[0m\u001b[1;33m:\u001b[0m\u001b[1;33m\u001b[0m\u001b[0m\n\u001b[1;32m----> 7\u001b[1;33m         \u001b[0mprint\u001b[0m\u001b[1;33m(\u001b[0m\u001b[0mself\u001b[0m\u001b[1;33m.\u001b[0m\u001b[0mname\u001b[0m\u001b[1;33m,\u001b[0m\u001b[0mself\u001b[0m\u001b[1;33m.\u001b[0m\u001b[0mage\u001b[0m\u001b[1;33m,\u001b[0m\u001b[0mmarks\u001b[0m\u001b[1;33m)\u001b[0m\u001b[1;33m\u001b[0m\u001b[0m\n\u001b[0m\u001b[0;32m      8\u001b[0m \u001b[0ms\u001b[0m\u001b[1;33m=\u001b[0m\u001b[0mstudent\u001b[0m\u001b[1;33m(\u001b[0m\u001b[1;34m'aman'\u001b[0m\u001b[1;33m,\u001b[0m\u001b[1;36m20\u001b[0m\u001b[1;33m,\u001b[0m\u001b[1;36m98\u001b[0m\u001b[1;33m)\u001b[0m\u001b[1;33m\u001b[0m\u001b[0m\n\u001b[0;32m      9\u001b[0m \u001b[0ms\u001b[0m\u001b[1;33m.\u001b[0m\u001b[0mtalk\u001b[0m\u001b[1;33m(\u001b[0m\u001b[1;33m)\u001b[0m\u001b[1;33m\u001b[0m\u001b[0m\n",
      "\u001b[1;31mNameError\u001b[0m: name 'marks' is not defined"
     ]
    }
   ],
   "source": [
    "class student:\n",
    "    def __init__(self,n,a,m):\n",
    "        self.name=n\n",
    "        self.age=a\n",
    "        self.marks=m\n",
    "    def talk(self):\n",
    "        print(self.name,self.age,marks)\n",
    "s=student('aman',20,98)\n",
    "s.talk()"
   ]
  },
  {
   "cell_type": "code",
   "execution_count": 19,
   "metadata": {},
   "outputs": [
    {
     "ename": "NameError",
     "evalue": "name 'marks' is not defined",
     "output_type": "error",
     "traceback": [
      "\u001b[1;31m---------------------------------------------------------------------------\u001b[0m",
      "\u001b[1;31mNameError\u001b[0m                                 Traceback (most recent call last)",
      "\u001b[1;32m<ipython-input-19-fc6b0a9e3e03>\u001b[0m in \u001b[0;36m<module>\u001b[1;34m()\u001b[0m\n\u001b[0;32m      7\u001b[0m         \u001b[0mprint\u001b[0m\u001b[1;33m(\u001b[0m\u001b[0mself\u001b[0m\u001b[1;33m.\u001b[0m\u001b[0mname\u001b[0m\u001b[1;33m,\u001b[0m\u001b[0mself\u001b[0m\u001b[1;33m.\u001b[0m\u001b[0mage\u001b[0m\u001b[1;33m,\u001b[0m\u001b[0mmarks\u001b[0m\u001b[1;33m)\u001b[0m\u001b[1;33m\u001b[0m\u001b[0m\n\u001b[0;32m      8\u001b[0m \u001b[0ms\u001b[0m\u001b[1;33m=\u001b[0m\u001b[0mstudent\u001b[0m\u001b[1;33m(\u001b[0m\u001b[1;34m'aman'\u001b[0m\u001b[1;33m,\u001b[0m\u001b[1;36m20\u001b[0m\u001b[1;33m,\u001b[0m\u001b[1;36m98\u001b[0m\u001b[1;33m)\u001b[0m\u001b[1;33m\u001b[0m\u001b[0m\n\u001b[1;32m----> 9\u001b[1;33m \u001b[0ms\u001b[0m\u001b[1;33m.\u001b[0m\u001b[0mtalk\u001b[0m\u001b[1;33m(\u001b[0m\u001b[1;33m)\u001b[0m\u001b[1;33m\u001b[0m\u001b[0m\n\u001b[0m",
      "\u001b[1;32m<ipython-input-19-fc6b0a9e3e03>\u001b[0m in \u001b[0;36mtalk\u001b[1;34m(self)\u001b[0m\n\u001b[0;32m      5\u001b[0m         \u001b[0mmarks\u001b[0m\u001b[1;33m=\u001b[0m\u001b[0mm\u001b[0m\u001b[1;33m\u001b[0m\u001b[0m\n\u001b[0;32m      6\u001b[0m     \u001b[1;32mdef\u001b[0m \u001b[0mtalk\u001b[0m\u001b[1;33m(\u001b[0m\u001b[0mself\u001b[0m\u001b[1;33m)\u001b[0m\u001b[1;33m:\u001b[0m\u001b[1;33m\u001b[0m\u001b[0m\n\u001b[1;32m----> 7\u001b[1;33m         \u001b[0mprint\u001b[0m\u001b[1;33m(\u001b[0m\u001b[0mself\u001b[0m\u001b[1;33m.\u001b[0m\u001b[0mname\u001b[0m\u001b[1;33m,\u001b[0m\u001b[0mself\u001b[0m\u001b[1;33m.\u001b[0m\u001b[0mage\u001b[0m\u001b[1;33m,\u001b[0m\u001b[0mmarks\u001b[0m\u001b[1;33m)\u001b[0m\u001b[1;33m\u001b[0m\u001b[0m\n\u001b[0m\u001b[0;32m      8\u001b[0m \u001b[0ms\u001b[0m\u001b[1;33m=\u001b[0m\u001b[0mstudent\u001b[0m\u001b[1;33m(\u001b[0m\u001b[1;34m'aman'\u001b[0m\u001b[1;33m,\u001b[0m\u001b[1;36m20\u001b[0m\u001b[1;33m,\u001b[0m\u001b[1;36m98\u001b[0m\u001b[1;33m)\u001b[0m\u001b[1;33m\u001b[0m\u001b[0m\n\u001b[0;32m      9\u001b[0m \u001b[0ms\u001b[0m\u001b[1;33m.\u001b[0m\u001b[0mtalk\u001b[0m\u001b[1;33m(\u001b[0m\u001b[1;33m)\u001b[0m\u001b[1;33m\u001b[0m\u001b[0m\n",
      "\u001b[1;31mNameError\u001b[0m: name 'marks' is not defined"
     ]
    }
   ],
   "source": [
    "class student:\n",
    "    def __init__(self,n,a,m):\n",
    "        self.name=n\n",
    "        self.age=a\n",
    "        marks=m\n",
    "    def talk(self):\n",
    "        print(self.name,self.age,marks)\n",
    "s=student('aman',20,98)\n",
    "s.talk()"
   ]
  },
  {
   "cell_type": "code",
   "execution_count": 20,
   "metadata": {},
   "outputs": [
    {
     "ename": "AttributeError",
     "evalue": "'student' object has no attribute 'marks'",
     "output_type": "error",
     "traceback": [
      "\u001b[1;31m---------------------------------------------------------------------------\u001b[0m",
      "\u001b[1;31mAttributeError\u001b[0m                            Traceback (most recent call last)",
      "\u001b[1;32m<ipython-input-20-b3351e8c413f>\u001b[0m in \u001b[0;36m<module>\u001b[1;34m()\u001b[0m\n\u001b[0;32m      7\u001b[0m         \u001b[0mprint\u001b[0m\u001b[1;33m(\u001b[0m\u001b[0mself\u001b[0m\u001b[1;33m.\u001b[0m\u001b[0mname\u001b[0m\u001b[1;33m,\u001b[0m\u001b[0mself\u001b[0m\u001b[1;33m.\u001b[0m\u001b[0mage\u001b[0m\u001b[1;33m,\u001b[0m\u001b[0ms\u001b[0m\u001b[1;33m.\u001b[0m\u001b[0mmarks\u001b[0m\u001b[1;33m)\u001b[0m\u001b[1;33m\u001b[0m\u001b[0m\n\u001b[0;32m      8\u001b[0m \u001b[0ms\u001b[0m\u001b[1;33m=\u001b[0m\u001b[0mstudent\u001b[0m\u001b[1;33m(\u001b[0m\u001b[1;34m'aman'\u001b[0m\u001b[1;33m,\u001b[0m\u001b[1;36m20\u001b[0m\u001b[1;33m,\u001b[0m\u001b[1;36m98\u001b[0m\u001b[1;33m)\u001b[0m\u001b[1;33m\u001b[0m\u001b[0m\n\u001b[1;32m----> 9\u001b[1;33m \u001b[0ms\u001b[0m\u001b[1;33m.\u001b[0m\u001b[0mtalk\u001b[0m\u001b[1;33m(\u001b[0m\u001b[1;33m)\u001b[0m\u001b[1;33m\u001b[0m\u001b[0m\n\u001b[0m",
      "\u001b[1;32m<ipython-input-20-b3351e8c413f>\u001b[0m in \u001b[0;36mtalk\u001b[1;34m(self)\u001b[0m\n\u001b[0;32m      5\u001b[0m         \u001b[0mmarks\u001b[0m\u001b[1;33m=\u001b[0m\u001b[0mm\u001b[0m\u001b[1;33m\u001b[0m\u001b[0m\n\u001b[0;32m      6\u001b[0m     \u001b[1;32mdef\u001b[0m \u001b[0mtalk\u001b[0m\u001b[1;33m(\u001b[0m\u001b[0mself\u001b[0m\u001b[1;33m)\u001b[0m\u001b[1;33m:\u001b[0m\u001b[1;33m\u001b[0m\u001b[0m\n\u001b[1;32m----> 7\u001b[1;33m         \u001b[0mprint\u001b[0m\u001b[1;33m(\u001b[0m\u001b[0mself\u001b[0m\u001b[1;33m.\u001b[0m\u001b[0mname\u001b[0m\u001b[1;33m,\u001b[0m\u001b[0mself\u001b[0m\u001b[1;33m.\u001b[0m\u001b[0mage\u001b[0m\u001b[1;33m,\u001b[0m\u001b[0ms\u001b[0m\u001b[1;33m.\u001b[0m\u001b[0mmarks\u001b[0m\u001b[1;33m)\u001b[0m\u001b[1;33m\u001b[0m\u001b[0m\n\u001b[0m\u001b[0;32m      8\u001b[0m \u001b[0ms\u001b[0m\u001b[1;33m=\u001b[0m\u001b[0mstudent\u001b[0m\u001b[1;33m(\u001b[0m\u001b[1;34m'aman'\u001b[0m\u001b[1;33m,\u001b[0m\u001b[1;36m20\u001b[0m\u001b[1;33m,\u001b[0m\u001b[1;36m98\u001b[0m\u001b[1;33m)\u001b[0m\u001b[1;33m\u001b[0m\u001b[0m\n\u001b[0;32m      9\u001b[0m \u001b[0ms\u001b[0m\u001b[1;33m.\u001b[0m\u001b[0mtalk\u001b[0m\u001b[1;33m(\u001b[0m\u001b[1;33m)\u001b[0m\u001b[1;33m\u001b[0m\u001b[0m\n",
      "\u001b[1;31mAttributeError\u001b[0m: 'student' object has no attribute 'marks'"
     ]
    }
   ],
   "source": [
    "class student:\n",
    "    def __init__(self,n,a,m):\n",
    "        self.name=n\n",
    "        self.age=a\n",
    "        marks=m\n",
    "    def talk(self):\n",
    "        print(self.name,self.age,s.marks)\n",
    "s=student('aman',20,98)\n",
    "s.talk()"
   ]
  },
  {
   "cell_type": "markdown",
   "metadata": {},
   "source": [
    "### Self\n",
    "self is a implicit variable pointing to current object\n",
    "\n",
    "for instance method or constructer the first argument should be self\n",
    "\n",
    "\n",
    "\n",
    "the the type(self) is current object type\n",
    "\n"
   ]
  },
  {
   "cell_type": "code",
   "execution_count": 21,
   "metadata": {},
   "outputs": [
    {
     "name": "stdout",
     "output_type": "stream",
     "text": [
      "<class '__main__.student'>\n"
     ]
    }
   ],
   "source": [
    "class student:\n",
    "    '''hi this is a student class'''\n",
    "    def __init__(self):\n",
    "        print(type(self))\n",
    "s=student()"
   ]
  },
  {
   "cell_type": "markdown",
   "metadata": {},
   "source": [
    "here in the bellow example we can see that the id()      \n",
    "that is address of self variable is same as the student object reference variable that is 's'     \n",
    "by this we can understand that both self and object reference variables points to same object      \n",
    "##### the differnce is that self is only used to accesss data internally where as  reference variable outside is used    \n",
    "##### to access data of a object from outside as well as inside"
   ]
  },
  {
   "cell_type": "code",
   "execution_count": 22,
   "metadata": {},
   "outputs": [
    {
     "name": "stdout",
     "output_type": "stream",
     "text": [
      "2604216617224\n",
      "2604216617224\n"
     ]
    }
   ],
   "source": [
    "class student:\n",
    "    '''hi this is a student class'''\n",
    "    def __init__(self):\n",
    "        print(id(self))\n",
    "s=student()\n",
    "print(id(s))"
   ]
  },
  {
   "cell_type": "code",
   "execution_count": 28,
   "metadata": {},
   "outputs": [
    {
     "name": "stdout",
     "output_type": "stream",
     "text": [
      "aman\n"
     ]
    }
   ],
   "source": [
    "class student:\n",
    "    '''hi this is a student class'''\n",
    "    def __init__(self,name):\n",
    "        self.name=name\n",
    "    def talk(self):\n",
    "        print(self.name)\n",
    "s=student('aman')\n",
    "s.talk()"
   ]
  },
  {
   "cell_type": "code",
   "execution_count": 33,
   "metadata": {},
   "outputs": [
    {
     "name": "stdout",
     "output_type": "stream",
     "text": [
      "aman\n"
     ]
    }
   ],
   "source": [
    "class student:\n",
    "    '''hi this is a student class'''\n",
    "    def __init__(self,name):\n",
    "        self.name=name\n",
    "    def talk(self):\n",
    "        print(self.name)\n",
    "s=student('aman')\n",
    "print(s.name)"
   ]
  },
  {
   "cell_type": "code",
   "execution_count": 38,
   "metadata": {},
   "outputs": [
    {
     "name": "stdout",
     "output_type": "stream",
     "text": [
      "aman\n",
      "20\n"
     ]
    }
   ],
   "source": [
    "class student:\n",
    "    '''hi this is a student class'''\n",
    "    def __init__(self,name,age):\n",
    "        self.name=name\n",
    "        self.age=age\n",
    "        self.talk()\n",
    "    def talk(self):\n",
    "        print(self.name)\n",
    "        print(s.age)\n",
    "s=student('aman',20)\n"
   ]
  },
  {
   "cell_type": "code",
   "execution_count": 39,
   "metadata": {},
   "outputs": [
    {
     "name": "stdout",
     "output_type": "stream",
     "text": [
      "aman\n",
      "20\n"
     ]
    },
    {
     "ename": "NameError",
     "evalue": "name 'self' is not defined",
     "output_type": "error",
     "traceback": [
      "\u001b[1;31m---------------------------------------------------------------------------\u001b[0m",
      "\u001b[1;31mNameError\u001b[0m                                 Traceback (most recent call last)",
      "\u001b[1;32m<ipython-input-39-a013aca2273c>\u001b[0m in \u001b[0;36m<module>\u001b[1;34m()\u001b[0m\n\u001b[0;32m      9\u001b[0m         \u001b[0mprint\u001b[0m\u001b[1;33m(\u001b[0m\u001b[0ms\u001b[0m\u001b[1;33m.\u001b[0m\u001b[0mage\u001b[0m\u001b[1;33m)\u001b[0m\u001b[1;33m\u001b[0m\u001b[0m\n\u001b[0;32m     10\u001b[0m \u001b[0ms\u001b[0m\u001b[1;33m=\u001b[0m\u001b[0mstudent\u001b[0m\u001b[1;33m(\u001b[0m\u001b[1;34m'aman'\u001b[0m\u001b[1;33m,\u001b[0m\u001b[1;36m20\u001b[0m\u001b[1;33m)\u001b[0m\u001b[1;33m\u001b[0m\u001b[0m\n\u001b[1;32m---> 11\u001b[1;33m \u001b[0mprint\u001b[0m\u001b[1;33m(\u001b[0m\u001b[0mself\u001b[0m\u001b[1;33m.\u001b[0m\u001b[0mage\u001b[0m\u001b[1;33m)\u001b[0m\u001b[1;33m\u001b[0m\u001b[0m\n\u001b[0m",
      "\u001b[1;31mNameError\u001b[0m: name 'self' is not defined"
     ]
    }
   ],
   "source": [
    "class student:\n",
    "    '''hi this is a student class'''\n",
    "    def __init__(self,name,age):\n",
    "        self.name=name\n",
    "        self.age=age\n",
    "        self.talk()\n",
    "    def talk(self):\n",
    "        print(self.name)\n",
    "        print(s.age)\n",
    "s=student('aman',20)\n",
    "print(self.age)"
   ]
  },
  {
   "cell_type": "markdown",
   "metadata": {},
   "source": [
    "#### instance variables:     \n",
    "    the variables whose values will change for every object(instance)      \n",
    "self is used to initialize the instance variables"
   ]
  },
  {
   "cell_type": "code",
   "execution_count": 32,
   "metadata": {},
   "outputs": [
    {
     "name": "stdout",
     "output_type": "stream",
     "text": [
      "aman 20 98\n"
     ]
    }
   ],
   "source": [
    "class student:\n",
    "    def __init__(self,n,a,m):\n",
    "        self.name=n\n",
    "        self.age=a\n",
    "        self.marks=m\n",
    "    def talk(self):\n",
    "        print(self.name,self.age,self.marks)\n",
    "s=student('aman',20,98)\n",
    "s.talk()"
   ]
  },
  {
   "cell_type": "markdown",
   "metadata": {},
   "source": [
    "Note: we dont pass self while creating class     \n",
    "python will pass it by deault"
   ]
  },
  {
   "cell_type": "markdown",
   "metadata": {},
   "source": [
    "here in the bellow code we are using delf in place of delf.      \n",
    " is it valid?      \n",
    "yes we can use any name in place of self to refer the class    \n",
    "But recommended to use self"
   ]
  },
  {
   "cell_type": "code",
   "execution_count": 37,
   "metadata": {},
   "outputs": [
    {
     "name": "stdout",
     "output_type": "stream",
     "text": [
      "aman 20 98\n"
     ]
    }
   ],
   "source": [
    "class student:\n",
    "    def __init__(delf,n,a,m):\n",
    "        delf.name=n\n",
    "        delf.age=a\n",
    "        delf.marks=m\n",
    "    def talk(delf):\n",
    "        print(delf.name,delf.age,delf.marks)\n",
    "s=student('aman',20,98)\n",
    "s.talk()"
   ]
  },
  {
   "cell_type": "markdown",
   "metadata": {},
   "source": [
    "constructor\n",
    "-----------------\n",
    "syntax:def __init__(self):       \n",
    "    constructer is used to declare and intialize variable            \n",
    "    constructer is called automatically once the object is created          \n",
    "    constructer is optional,that is even we dont mention constructer by default pvm will add an empty  constructer"
   ]
  },
  {
   "cell_type": "code",
   "execution_count": 41,
   "metadata": {},
   "outputs": [
    {
     "name": "stdout",
     "output_type": "stream",
     "text": [
      "aman 20\n"
     ]
    }
   ],
   "source": [
    "class student:\n",
    "    def talk(self,name,age):\n",
    "        self.name=name\n",
    "        self.age=age\n",
    "        print(self.name,self.age)\n",
    "s=student()\n",
    "s.talk('aman',20)"
   ]
  },
  {
   "cell_type": "code",
   "execution_count": 49,
   "metadata": {},
   "outputs": [
    {
     "name": "stdout",
     "output_type": "stream",
     "text": [
      "AM hero\n",
      "AM hero\n",
      "AM hero\n",
      "AM hero\n"
     ]
    }
   ],
   "source": [
    "class student:\n",
    "    def __init__(self):\n",
    "        print(\"AM hero\")\n",
    "s=student()\n",
    "s1=student()\n",
    "s3=student()\n",
    "s4=student()"
   ]
  },
  {
   "cell_type": "markdown",
   "metadata": {},
   "source": [
    "Note:\n",
    "------\n",
    "constructer must take atleast one argument .But  it can take atmost any number of values"
   ]
  },
  {
   "cell_type": "markdown",
   "metadata": {},
   "source": [
    "##### mutiple arguments"
   ]
  },
  {
   "cell_type": "code",
   "execution_count": 54,
   "metadata": {},
   "outputs": [
    {
     "name": "stdout",
     "output_type": "stream",
     "text": [
      "aman 20 male A GEC\n"
     ]
    }
   ],
   "source": [
    "class student:\n",
    "    def __init__(self,name,age,gender,section,clg):\n",
    "        self.name=name\n",
    "        self.age=age\n",
    "        self.gender=gender\n",
    "        self.section=section\n",
    "        self.clg=clg\n",
    "        print(self.name,self.age, self.gender,self.section,self.clg)\n",
    "s=student('aman',20,'male','A','GEC')"
   ]
  },
  {
   "cell_type": "markdown",
   "metadata": {},
   "source": [
    "###### single arguments"
   ]
  },
  {
   "cell_type": "code",
   "execution_count": 55,
   "metadata": {},
   "outputs": [
    {
     "name": "stdout",
     "output_type": "stream",
     "text": [
      "AM hero\n"
     ]
    }
   ],
   "source": [
    "class student:\n",
    "    def __init__(self):\n",
    "        print(\"AM hero\")\n",
    "s=student()"
   ]
  },
  {
   "cell_type": "markdown",
   "metadata": {},
   "source": [
    "#### calling constructer expicitly"
   ]
  },
  {
   "cell_type": "code",
   "execution_count": 58,
   "metadata": {},
   "outputs": [
    {
     "name": "stdout",
     "output_type": "stream",
     "text": [
      "AM hero\n",
      "AM hero\n"
     ]
    }
   ],
   "source": [
    "class student:\n",
    "    def __init__(self):\n",
    "        print(\"AM hero\")\n",
    "s=student()\n",
    "s.__init__()#explicit calling"
   ]
  },
  {
   "cell_type": "markdown",
   "metadata": {},
   "source": [
    "#### What happens when we create mutiple constructers in same class?"
   ]
  },
  {
   "cell_type": "markdown",
   "metadata": {},
   "source": [
    "even you declare mutiple constructers in a class, pvm will only consider last constructer as we can see in bellow example we got error because last constructer require one argument that is \"name\" which is not given in class creation "
   ]
  },
  {
   "cell_type": "code",
   "execution_count": 60,
   "metadata": {},
   "outputs": [
    {
     "ename": "TypeError",
     "evalue": "__init__() missing 1 required positional argument: 'name'",
     "output_type": "error",
     "traceback": [
      "\u001b[1;31m---------------------------------------------------------------------------\u001b[0m",
      "\u001b[1;31mTypeError\u001b[0m                                 Traceback (most recent call last)",
      "\u001b[1;32m<ipython-input-60-b864494ba9a3>\u001b[0m in \u001b[0;36m<module>\u001b[1;34m()\u001b[0m\n\u001b[0;32m      4\u001b[0m     \u001b[1;32mdef\u001b[0m \u001b[0m__init__\u001b[0m\u001b[1;33m(\u001b[0m\u001b[0mself\u001b[0m\u001b[1;33m,\u001b[0m\u001b[0mname\u001b[0m\u001b[1;33m)\u001b[0m\u001b[1;33m:\u001b[0m\u001b[1;33m\u001b[0m\u001b[0m\n\u001b[0;32m      5\u001b[0m         \u001b[0mprint\u001b[0m\u001b[1;33m(\u001b[0m\u001b[0mself\u001b[0m\u001b[1;33m.\u001b[0m\u001b[0mname\u001b[0m\u001b[1;33m)\u001b[0m\u001b[1;33m\u001b[0m\u001b[0m\n\u001b[1;32m----> 6\u001b[1;33m \u001b[0ms\u001b[0m\u001b[1;33m=\u001b[0m\u001b[0mstudent\u001b[0m\u001b[1;33m(\u001b[0m\u001b[1;33m)\u001b[0m\u001b[1;33m\u001b[0m\u001b[0m\n\u001b[0m",
      "\u001b[1;31mTypeError\u001b[0m: __init__() missing 1 required positional argument: 'name'"
     ]
    }
   ],
   "source": [
    "class student:\n",
    "    def __init__(self):\n",
    "        print(\"AM hero\")\n",
    "    def __init__(self,name):\n",
    "        print(self.name)\n",
    "s=student()"
   ]
  },
  {
   "cell_type": "code",
   "execution_count": 62,
   "metadata": {},
   "outputs": [
    {
     "name": "stdout",
     "output_type": "stream",
     "text": [
      "aman\n"
     ]
    }
   ],
   "source": [
    "class student:\n",
    "    def __init__(self):\n",
    "        print(\"AM hero\")\n",
    "    def __init__(self,name):\n",
    "        self.name=name\n",
    "        print(self.name)\n",
    "s=student(\"aman\")"
   ]
  },
  {
   "cell_type": "markdown",
   "metadata": {},
   "source": [
    "what happpens if we did like bellow case..       \n",
    "In bellow case when u call __init__() as method using the class reference varialbe 's'      \n",
    "the property or variable ('name') is now replaced with new value 'hello' inplace of 'aman'"
   ]
  },
  {
   "cell_type": "code",
   "execution_count": 65,
   "metadata": {},
   "outputs": [
    {
     "name": "stdout",
     "output_type": "stream",
     "text": [
      "aman\n",
      "hello\n"
     ]
    }
   ],
   "source": [
    "class student:\n",
    "    def __init__(self,n):\n",
    "        self.name=n\n",
    "        print(self.name)\n",
    "s=student('aman')\n",
    "s.__init__(\"hello\")"
   ]
  },
  {
   "cell_type": "markdown",
   "metadata": {},
   "source": [
    "# multiple objects "
   ]
  },
  {
   "cell_type": "code",
   "execution_count": 42,
   "metadata": {},
   "outputs": [
    {
     "name": "stdout",
     "output_type": "stream",
     "text": [
      "aman\n",
      "21\n",
      "90\n"
     ]
    }
   ],
   "source": [
    "class student:\n",
    "    def __init__(self,n,a,m):\n",
    "        self.name=n\n",
    "        self.age=a\n",
    "        self.marks=m\n",
    "    def talk(self):\n",
    "        print(self.name,self.age,self.marks)\n",
    "s=student('aman',20,98)\n",
    "print(s.name)\n",
    "s1=student('aman1',21,99)\n",
    "print(s1.age)\n",
    "s2=student('aman2',22,90)\n",
    "print(s2.marks)"
   ]
  },
  {
   "cell_type": "code",
   "execution_count": 43,
   "metadata": {},
   "outputs": [
    {
     "name": "stdout",
     "output_type": "stream",
     "text": [
      "aman 20 98\n",
      "aman1 21 99\n",
      "aman2 22 90\n"
     ]
    }
   ],
   "source": [
    "class student:\n",
    "    def __init__(self,n,a,m):\n",
    "        self.name=n\n",
    "        self.age=a\n",
    "        self.marks=m\n",
    "    def talk(self):\n",
    "        print(self.name,self.age,self.marks)\n",
    "s=student('aman',20,98)\n",
    "s1=student('aman1',21,99)\n",
    "s2=student('aman2',22,90)\n",
    "s.talk()\n",
    "s1.talk()\n",
    "s2.talk()"
   ]
  },
  {
   "cell_type": "code",
   "execution_count": 45,
   "metadata": {},
   "outputs": [
    {
     "name": "stdout",
     "output_type": "stream",
     "text": [
      "2604216534072\n",
      "2604216534072\n",
      "2604216534184\n",
      "2604216534184\n",
      "2604216533344\n",
      "2604216533344\n"
     ]
    }
   ],
   "source": [
    "class student:\n",
    "    def __init__(self):\n",
    "        print(id(self))\n",
    "s=student()\n",
    "print(id(s))\n",
    "s1=student()\n",
    "print(id(s1))\n",
    "s2=student()\n",
    "print(id(s2))\n",
    "\n",
    "    "
   ]
  },
  {
   "cell_type": "markdown",
   "metadata": {},
   "source": [
    "#### diffrences between contructor and methods"
   ]
  },
  {
   "cell_type": "markdown",
   "metadata": {},
   "source": [
    "##### constructor --------------------------------------------------------------------------------------------------------------method"
   ]
  },
  {
   "cell_type": "markdown",
   "metadata": {},
   "source": [
    "the name of constructer should be __init__---------------------------------------------------------------------------the name can be anything "
   ]
  },
  {
   "cell_type": "markdown",
   "metadata": {},
   "source": [
    "used to declare and initialize variables----------------------------------------------------------------------------used to write bussiness logic"
   ]
  },
  {
   "cell_type": "markdown",
   "metadata": {},
   "source": [
    "can be called only once-----------------------------------------------------------------------------------------------can be called any times"
   ]
  },
  {
   "cell_type": "markdown",
   "metadata": {},
   "source": [
    "it will be called implicitly when object is created-----------------------------------------------------------------it has to be callled explicitly"
   ]
  },
  {
   "cell_type": "markdown",
   "metadata": {},
   "source": [
    "## a small example with all known content"
   ]
  },
  {
   "cell_type": "code",
   "execution_count": 2,
   "metadata": {},
   "outputs": [
    {
     "name": "stdout",
     "output_type": "stream",
     "text": [
      "Enter player name: dhoni\n",
      "Enter player age: 40\n",
      "Enter player batting total: 535355\n",
      "Enter player total wickets: 235\n",
      "Do you want to enter another player details [yes/no]:yes\n",
      "Enter player name: kohli\n",
      "Enter player age: 35\n",
      "Enter player batting total: 4354446\n",
      "Enter player total wickets: 23\n",
      "Do you want to enter another player details [yes/no]:no\n",
      "************************************************************\n",
      "Hi my name is  dhoni\n",
      "My age is  40\n",
      "My batting total is  535355\n",
      "I took  235  wickets\n",
      "************************************************************\n",
      "Hi my name is  kohli\n",
      "My age is  35\n",
      "My batting total is  4354446\n",
      "I took  23  wickets\n"
     ]
    }
   ],
   "source": [
    "class cricketer:\n",
    "    def __init__(self,name,age,bat,bowl):\n",
    "        self.name=name\n",
    "        self.age=age\n",
    "        self.batscore=bat\n",
    "        self.bowlwic=bowl\n",
    "    def summary(self):\n",
    "        print(\"Hi my name is \",self.name)\n",
    "        print(\"My age is \",self.age)\n",
    "        print(\"My batting total is \",self.batscore)\n",
    "        print(\"I took \",self.bowlwic,\" wickets\")\n",
    "l=[]\n",
    "s='yes'\n",
    "while(s.lower()=='yes'):\n",
    "    n=input(\"Enter player name: \")\n",
    "    a=input(\"Enter player age: \")\n",
    "    bat=input(\"Enter player batting total: \")\n",
    "    bowl=input(\"Enter player total wickets: \")\n",
    "    m=cricketer(n,a,bat,bowl)\n",
    "    l.append(m)\n",
    "    s=input(\"Do you want to enter another player details [yes/no]:\")\n",
    "for i in l:\n",
    "    print(\"*\"*60)\n",
    "    i.summary()"
   ]
  },
  {
   "cell_type": "markdown",
   "metadata": {},
   "source": [
    "### Types of variables"
   ]
  },
  {
   "cell_type": "markdown",
   "metadata": {},
   "source": [
    "instance variables             \n",
    "static variables            \n",
    "local variables"
   ]
  },
  {
   "cell_type": "markdown",
   "metadata": {},
   "source": [
    "# instance variables"
   ]
  },
  {
   "cell_type": "markdown",
   "metadata": {},
   "source": [
    "instance variables are class level variables that is for every object we maintain a seperate copy for the variables"
   ]
  },
  {
   "cell_type": "markdown",
   "metadata": {},
   "source": [
    "instance variables are written using self example sef.name\n"
   ]
  },
  {
   "cell_type": "markdown",
   "metadata": {},
   "source": [
    "instance variables values may change for every object.So thats why we create seperate copy for every variables"
   ]
  },
  {
   "cell_type": "code",
   "execution_count": 5,
   "metadata": {},
   "outputs": [
    {
     "name": "stdout",
     "output_type": "stream",
     "text": [
      "kohli 34\n",
      "Dhoni 40\n"
     ]
    }
   ],
   "source": [
    "class cricketer:\n",
    "    def __init__(self,name,age,bat,bowl):\n",
    "        self.name=name\n",
    "        self.age=age\n",
    "        self.batscore=bat\n",
    "        self.bowlwic=bowl\n",
    "    def talk(self):\n",
    "        print(self.name,self.age)\n",
    "s=cricketer('kohli','34','2243434','34343')\n",
    "s1=cricketer('Dhoni','40','5243434','74343')\n",
    "s.talk();s1.talk()"
   ]
  },
  {
   "cell_type": "markdown",
   "metadata": {},
   "source": [
    "### various places to declare instance variables"
   ]
  },
  {
   "cell_type": "code",
   "execution_count": 35,
   "metadata": {},
   "outputs": [
    {
     "name": "stdout",
     "output_type": "stream",
     "text": [
      "{'name': 'aman', 'age': 20}\n"
     ]
    }
   ],
   "source": [
    "#inside a constructor \n",
    "class student:\n",
    "    def __init__(self,a,b):\n",
    "        self.name=a\n",
    "        self.age=b\n",
    "s=student(\"aman\",20)\n",
    "print(s.__dict__)"
   ]
  },
  {
   "cell_type": "code",
   "execution_count": 37,
   "metadata": {},
   "outputs": [
    {
     "name": "stdout",
     "output_type": "stream",
     "text": [
      "{'name': 'aman', 'age': 20}\n",
      "{'name': 'aman', 'age': 20, 'graduation': 'Btech'}\n"
     ]
    }
   ],
   "source": [
    "#inside a method\n",
    "class student:\n",
    "    def __init__(self,a,b):\n",
    "        self.name=a\n",
    "        self.age=b\n",
    "    def talk(self,grad):\n",
    "        self.graduation=grad\n",
    "s=student(\"aman\",20)\n",
    "print(s.__dict__)\n",
    "s.talk(\"Btech\")\n",
    "print(s.__dict__)"
   ]
  },
  {
   "cell_type": "code",
   "execution_count": 43,
   "metadata": {},
   "outputs": [
    {
     "name": "stdout",
     "output_type": "stream",
     "text": [
      "{'name': 'aman', 'age': 20}\n",
      "{'name': 'aman', 'age': 20, 'gender': 'male'}\n"
     ]
    }
   ],
   "source": [
    "#outside of class\n",
    "class student:\n",
    "    def __init__(self,a,b):\n",
    "        self.name=a\n",
    "        self.age=b\n",
    "    def talk(self,grad):\n",
    "        self.graduation=grad\n",
    "s=student(\"aman\",20)\n",
    "print(s.__dict__)\n",
    "s.gender=\"male\"\n",
    "print(s.__dict__)"
   ]
  },
  {
   "cell_type": "markdown",
   "metadata": {},
   "source": [
    "here for every object instance variables can change from object to object where as in java they are fixed"
   ]
  },
  {
   "cell_type": "code",
   "execution_count": 45,
   "metadata": {},
   "outputs": [
    {
     "name": "stdout",
     "output_type": "stream",
     "text": [
      "{'name': 'aman', 'age': 20, 'gender': 'male'}\n",
      "{'name': 'aman1', 'age': 50, 'graduation': 'SSC'}\n"
     ]
    }
   ],
   "source": [
    "class student:\n",
    "    def __init__(self,a,b):\n",
    "        self.name=a\n",
    "        self.age=b\n",
    "    def talk(self,grad):\n",
    "        self.graduation=grad\n",
    "s=student(\"aman\",20)\n",
    "s.gender=\"male\"\n",
    "s1=student('aman1',50)\n",
    "s1.talk(\"SSC\")\n",
    "print(s.__dict__)\n",
    "print(s1.__dict__)\n"
   ]
  },
  {
   "cell_type": "markdown",
   "metadata": {},
   "source": [
    "####  Accessing instance variables "
   ]
  },
  {
   "cell_type": "markdown",
   "metadata": {},
   "source": [
    "1) inside class using self      \n",
    "2)outside class by using object reference variable"
   ]
  },
  {
   "cell_type": "code",
   "execution_count": 49,
   "metadata": {},
   "outputs": [
    {
     "name": "stdout",
     "output_type": "stream",
     "text": [
      "aman 20 98\n"
     ]
    }
   ],
   "source": [
    "#inside class example\n",
    "class student:\n",
    "    def __init__(self,n,a,m):\n",
    "        self.name=n\n",
    "        self.age=a\n",
    "        self.marks=m\n",
    "    def talk(self):\n",
    "        print(self.name,self.age,self.marks)#accessed inside\n",
    "s=student('aman',20,98)\n",
    "s.talk()"
   ]
  },
  {
   "cell_type": "code",
   "execution_count": 51,
   "metadata": {},
   "outputs": [
    {
     "name": "stdout",
     "output_type": "stream",
     "text": [
      "20\n"
     ]
    }
   ],
   "source": [
    "#outside the class \n",
    "class student:\n",
    "    def __init__(self,n,a,m):\n",
    "        self.name=n\n",
    "        self.age=a\n",
    "        self.marks=m\n",
    "    def talk(self):\n",
    "        print(self.name,self.age,self.marks)\n",
    "s=student('aman',20,98)\n",
    "print(s.age)#accessed outside"
   ]
  },
  {
   "cell_type": "markdown",
   "metadata": {},
   "source": [
    "#### Deleting a instance variable"
   ]
  },
  {
   "cell_type": "code",
   "execution_count": 53,
   "metadata": {},
   "outputs": [
    {
     "name": "stdout",
     "output_type": "stream",
     "text": [
      "{'name': 'aman', 'age': 20, 'marks': 98}\n",
      "{'name': 'aman', 'age': 20}\n"
     ]
    }
   ],
   "source": [
    "class student:\n",
    "    def __init__(self,n,a,m):\n",
    "        self.name=n\n",
    "        self.age=a\n",
    "        self.marks=m\n",
    "    def talk(self):\n",
    "        del self.marks\n",
    "s=student('aman',20,98)\n",
    "print(s.__dict__)\n",
    "s.talk()\n",
    "print(s.__dict__)"
   ]
  },
  {
   "cell_type": "code",
   "execution_count": 56,
   "metadata": {},
   "outputs": [
    {
     "name": "stdout",
     "output_type": "stream",
     "text": [
      "{'name': 'aman', 'age': 20, 'marks': 98}\n",
      "aman 20 98\n",
      "{'name': 'aman', 'age': 20}\n"
     ]
    }
   ],
   "source": [
    "class student:\n",
    "    def __init__(self,n,a,m):\n",
    "        self.name=n\n",
    "        self.age=a\n",
    "        self.marks=m\n",
    "    def talk(self):\n",
    "        print(self.name,self.age,self.marks)\n",
    "s=student('aman',20,98)\n",
    "print(s.__dict__)\n",
    "s.talk()\n",
    "del s.marks\n",
    "print(s.__dict__)"
   ]
  },
  {
   "cell_type": "code",
   "execution_count": 57,
   "metadata": {},
   "outputs": [
    {
     "name": "stdout",
     "output_type": "stream",
     "text": [
      "{'name': 'aman', 'age': 20, 'marks': 98}\n",
      "aman 20 98\n"
     ]
    },
    {
     "ename": "AttributeError",
     "evalue": "'student' object has no attribute 'marks'",
     "output_type": "error",
     "traceback": [
      "\u001b[1;31m---------------------------------------------------------------------------\u001b[0m",
      "\u001b[1;31mAttributeError\u001b[0m                            Traceback (most recent call last)",
      "\u001b[1;32m<ipython-input-57-25825b1ed33d>\u001b[0m in \u001b[0;36m<module>\u001b[1;34m()\u001b[0m\n\u001b[0;32m     10\u001b[0m \u001b[0ms\u001b[0m\u001b[1;33m.\u001b[0m\u001b[0mtalk\u001b[0m\u001b[1;33m(\u001b[0m\u001b[1;33m)\u001b[0m\u001b[1;33m\u001b[0m\u001b[0m\n\u001b[0;32m     11\u001b[0m \u001b[1;32mdel\u001b[0m \u001b[0ms\u001b[0m\u001b[1;33m.\u001b[0m\u001b[0mmarks\u001b[0m\u001b[1;33m\u001b[0m\u001b[0m\n\u001b[1;32m---> 12\u001b[1;33m \u001b[0ms\u001b[0m\u001b[1;33m.\u001b[0m\u001b[0mtalk\u001b[0m\u001b[1;33m(\u001b[0m\u001b[1;33m)\u001b[0m\u001b[1;33m\u001b[0m\u001b[0m\n\u001b[0m\u001b[0;32m     13\u001b[0m \u001b[0mprint\u001b[0m\u001b[1;33m(\u001b[0m\u001b[0ms\u001b[0m\u001b[1;33m.\u001b[0m\u001b[0m__dict__\u001b[0m\u001b[1;33m)\u001b[0m\u001b[1;33m\u001b[0m\u001b[0m\n",
      "\u001b[1;32m<ipython-input-57-25825b1ed33d>\u001b[0m in \u001b[0;36mtalk\u001b[1;34m(self)\u001b[0m\n\u001b[0;32m      5\u001b[0m         \u001b[0mself\u001b[0m\u001b[1;33m.\u001b[0m\u001b[0mmarks\u001b[0m\u001b[1;33m=\u001b[0m\u001b[0mm\u001b[0m\u001b[1;33m\u001b[0m\u001b[0m\n\u001b[0;32m      6\u001b[0m     \u001b[1;32mdef\u001b[0m \u001b[0mtalk\u001b[0m\u001b[1;33m(\u001b[0m\u001b[0mself\u001b[0m\u001b[1;33m)\u001b[0m\u001b[1;33m:\u001b[0m\u001b[1;33m\u001b[0m\u001b[0m\n\u001b[1;32m----> 7\u001b[1;33m         \u001b[0mprint\u001b[0m\u001b[1;33m(\u001b[0m\u001b[0mself\u001b[0m\u001b[1;33m.\u001b[0m\u001b[0mname\u001b[0m\u001b[1;33m,\u001b[0m\u001b[0mself\u001b[0m\u001b[1;33m.\u001b[0m\u001b[0mage\u001b[0m\u001b[1;33m,\u001b[0m\u001b[0mself\u001b[0m\u001b[1;33m.\u001b[0m\u001b[0mmarks\u001b[0m\u001b[1;33m)\u001b[0m\u001b[1;33m\u001b[0m\u001b[0m\n\u001b[0m\u001b[0;32m      8\u001b[0m \u001b[0ms\u001b[0m\u001b[1;33m=\u001b[0m\u001b[0mstudent\u001b[0m\u001b[1;33m(\u001b[0m\u001b[1;34m'aman'\u001b[0m\u001b[1;33m,\u001b[0m\u001b[1;36m20\u001b[0m\u001b[1;33m,\u001b[0m\u001b[1;36m98\u001b[0m\u001b[1;33m)\u001b[0m\u001b[1;33m\u001b[0m\u001b[0m\n\u001b[0;32m      9\u001b[0m \u001b[0mprint\u001b[0m\u001b[1;33m(\u001b[0m\u001b[0ms\u001b[0m\u001b[1;33m.\u001b[0m\u001b[0m__dict__\u001b[0m\u001b[1;33m)\u001b[0m\u001b[1;33m\u001b[0m\u001b[0m\n",
      "\u001b[1;31mAttributeError\u001b[0m: 'student' object has no attribute 'marks'"
     ]
    }
   ],
   "source": [
    "class student:\n",
    "    def __init__(self,n,a,m):\n",
    "        self.name=n\n",
    "        self.age=a\n",
    "        self.marks=m\n",
    "    def talk(self):\n",
    "        print(self.name,self.age,self.marks)\n",
    "s=student('aman',20,98)\n",
    "print(s.__dict__)\n",
    "s.talk()\n",
    "del s.marks\n",
    "s.talk()\n",
    "print(s.__dict__)"
   ]
  },
  {
   "cell_type": "code",
   "execution_count": 58,
   "metadata": {},
   "outputs": [
    {
     "name": "stdout",
     "output_type": "stream",
     "text": [
      "{'name': 'aman', 'age': 20, 'marks': 98}\n",
      "aman 20 98\n",
      "{'name': 'aman'}\n"
     ]
    }
   ],
   "source": [
    "#we can delete multiple values at a time by seperating them with ','\n",
    "class student:\n",
    "    def __init__(self,n,a,m):\n",
    "        self.name=n\n",
    "        self.age=a\n",
    "        self.marks=m\n",
    "    def talk(self):\n",
    "        print(self.name,self.age,self.marks)\n",
    "s=student('aman',20,98)\n",
    "print(s.__dict__)\n",
    "s.talk()\n",
    "del s.marks,s.age#deleting multiple values\n",
    "print(s.__dict__)"
   ]
  },
  {
   "cell_type": "markdown",
   "metadata": {},
   "source": [
    "here in bellow example we have deleted instance variables for object s but not for object s1 so the s1 variables remain undeleted      \n",
    "NOTE: the changes made to variables in one object wil not effect the variables in another object"
   ]
  },
  {
   "cell_type": "code",
   "execution_count": 62,
   "metadata": {},
   "outputs": [
    {
     "name": "stdout",
     "output_type": "stream",
     "text": [
      "for s  {'name': 'aman', 'age': 20, 'marks': 98}\n",
      "for s1  {'name': 'varshith', 'age': 20, 'marks': 100}\n",
      "After deletion for object s:\n",
      " $$$$$$$$$$$$$$$$$$$$$$$$$$$\n",
      "for s {'name': 'aman'}\n",
      "for s1  {'name': 'varshith', 'age': 20, 'marks': 100}\n"
     ]
    }
   ],
   "source": [
    "class student:\n",
    "    def __init__(self,n,a,m):\n",
    "        self.name=n\n",
    "        self.age=a\n",
    "        self.marks=m\n",
    "    def talk(self):\n",
    "        print(self.name,self.age,self.marks)\n",
    "\n",
    "s=student('aman',20,98)\n",
    "s1=student(\"varshith\",20,100)\n",
    "print('for s ',s.__dict__)\n",
    "print('for s1 ',s1.__dict__)\n",
    "del s.marks,s.age\n",
    "print(\"After deletion for object s:\\n $$$$$$$$$$$$$$$$$$$$$$$$$$$\")\n",
    "print('for s',s.__dict__)\n",
    "print('for s1 ',s1.__dict__)\n",
    "\n"
   ]
  },
  {
   "cell_type": "markdown",
   "metadata": {},
   "source": [
    "### updating the instance variable"
   ]
  },
  {
   "cell_type": "markdown",
   "metadata": {},
   "source": [
    "even though you changed the value of instance variable of  one object there will be no change in the values of another object"
   ]
  },
  {
   "cell_type": "code",
   "execution_count": 65,
   "metadata": {},
   "outputs": [
    {
     "name": "stdout",
     "output_type": "stream",
     "text": [
      "for s  {'name': 'aman', 'age': 20, 'marks': 98}\n",
      "for s1  {'name': 'varshith', 'age': 20, 'marks': 100}\n",
      "After updation for object s:\n",
      " @@@@@@@@@@@@@@@@@@@@@@@@@@\n",
      "for s {'name': 'aman', 'age': 2200, 'marks': 98}\n",
      "for s1  {'name': 'varshith', 'age': 20, 'marks': 100}\n"
     ]
    }
   ],
   "source": [
    "class student:\n",
    "    def __init__(self,n,a,m):\n",
    "        self.name=n\n",
    "        self.age=a\n",
    "        self.marks=m\n",
    "    def talk(self):\n",
    "        print(self.name,self.age,self.marks)\n",
    "\n",
    "s=student('aman',20,98)\n",
    "s1=student(\"varshith\",20,100)\n",
    "print('for s ',s.__dict__)\n",
    "print('for s1 ',s1.__dict__)\n",
    "s.age=2200\n",
    "print(\"After updation for object s:\\n @@@@@@@@@@@@@@@@@@@@@@@@@@\")\n",
    "print('for s',s.__dict__)\n",
    "print('for s1 ',s1.__dict__)"
   ]
  },
  {
   "cell_type": "markdown",
   "metadata": {},
   "source": [
    "## question to answer"
   ]
  },
  {
   "cell_type": "code",
   "execution_count": null,
   "metadata": {},
   "outputs": [],
   "source": [
    "class student:\n",
    "    def __init__(self,n,a,m):\n",
    "        self.name=n\n",
    "        self.age=a\n",
    "        self.marks=m\n",
    "    def talk(self):\n",
    "        self.name='varshith'\n",
    "        print(self.name,self.age,self.marks)\n",
    "s=student('aman',20,98)\n",
    "s.age=64\n",
    "s.gender=\"male\"\n",
    "s.name='diensh'\n",
    "print(s.__dict__)"
   ]
  },
  {
   "cell_type": "markdown",
   "metadata": {},
   "source": [
    "static variables \n",
    "------------------------------\n",
    "are class level variables.Class level variables are same for all the objects,        \n",
    "So for all objects only one set of static variables copy is maintained"
   ]
  },
  {
   "cell_type": "code",
   "execution_count": 7,
   "metadata": {},
   "outputs": [
    {
     "name": "stdout",
     "output_type": "stream",
     "text": [
      "kohli 34 India Rahul Dravid\n",
      "Dhoni 40 India Rahul Dravid\n"
     ]
    }
   ],
   "source": [
    "class cricketer:\n",
    "    team=\"India\"\n",
    "    coach=\"Rahul Dravid\"\n",
    "    def __init__(self,name,age,bat,bowl):\n",
    "        self.name=name\n",
    "        self.age=age\n",
    "        self.batscore=bat\n",
    "        self.bowlwic=bowl\n",
    "    def talk(self):\n",
    "        print(self.name,self.age,cricketer.team,cricketer.coach)\n",
    "s=cricketer('kohli','34','2243434','34343')\n",
    "s1=cricketer('Dhoni','40','5243434','74343')\n",
    "s.talk();s1.talk()"
   ]
  },
  {
   "cell_type": "markdown",
   "metadata": {},
   "source": [
    "#### places to declare static variable"
   ]
  },
  {
   "cell_type": "markdown",
   "metadata": {},
   "source": [
    "1)In general we can declare static variables inside a class and outside a method or constructor "
   ]
  },
  {
   "cell_type": "code",
   "execution_count": 75,
   "metadata": {},
   "outputs": [
    {
     "name": "stdout",
     "output_type": "stream",
     "text": [
      "{'__module__': '__main__', 'team': 'India', 'coach': 'Rahul Dravid', '__init__': <function cricketer.__init__ at 0x000001FB136CEE18>, 'talk': <function cricketer.talk at 0x000001FB136CE950>, '__dict__': <attribute '__dict__' of 'cricketer' objects>, '__weakref__': <attribute '__weakref__' of 'cricketer' objects>, '__doc__': None}\n"
     ]
    }
   ],
   "source": [
    "class cricketer:\n",
    "    team=\"India\"\n",
    "    coach=\"Rahul Dravid\"\n",
    "    def __init__(self,name):\n",
    "        self.name=name\n",
    "    def talk(self):\n",
    "        print(cricketer.team)\n",
    "print(cricketer.__dict__)\n",
    "s=cricketer(\"Dhoni\")\n"
   ]
  },
  {
   "cell_type": "markdown",
   "metadata": {},
   "source": [
    "2)Inside constructor we can declare a static varaible by using class name "
   ]
  },
  {
   "cell_type": "code",
   "execution_count": 80,
   "metadata": {},
   "outputs": [
    {
     "name": "stdout",
     "output_type": "stream",
     "text": [
      "{'__module__': '__main__', 'team': 'India', 'coach': 'Rahul Dravid', '__init__': <function cricketer.__init__ at 0x000001FB13700378>, 'talk': <function cricketer.talk at 0x000001FB13700158>, '__dict__': <attribute '__dict__' of 'cricketer' objects>, '__weakref__': <attribute '__weakref__' of 'cricketer' objects>, '__doc__': None}\n",
      "@@@@@@@@@@@@@@@@@@@@@@@@@@@@@@@@@@@@@@@@@@@@@@@@@@@@@@@@@@@@@@@@@@@@@@@@@@@@@@@@@@@@@@@@@@@@@@@@@@@@@@@@@@@@@@@@@@@@@@@@\n",
      "{'__module__': '__main__', 'team': 'India', 'coach': 'Rahul Dravid', '__init__': <function cricketer.__init__ at 0x000001FB13700378>, 'talk': <function cricketer.talk at 0x000001FB13700158>, '__dict__': <attribute '__dict__' of 'cricketer' objects>, '__weakref__': <attribute '__weakref__' of 'cricketer' objects>, '__doc__': None, 'jerssey': 'blue'}\n"
     ]
    }
   ],
   "source": [
    "class cricketer:\n",
    "    team=\"India\"\n",
    "    coach=\"Rahul Dravid\"\n",
    "    def __init__(self,name):\n",
    "        self.name=name\n",
    "        cricketer.jerssey='blue'\n",
    "    def talk(self):\n",
    "        print(cricketer.team)\n",
    "print(cricketer.__dict__)\n",
    "s=cricketer(\"Dhoni\")\n",
    "print(\"@\"*120)\n",
    "print(cricketer.__dict__)"
   ]
  },
  {
   "cell_type": "markdown",
   "metadata": {},
   "source": [
    "3)Inside instance method we can declare a static varaible by using class name"
   ]
  },
  {
   "cell_type": "code",
   "execution_count": 82,
   "metadata": {},
   "outputs": [
    {
     "name": "stdout",
     "output_type": "stream",
     "text": [
      "{'__module__': '__main__', 'team': 'India', 'coach': 'Rahul Dravid', '__init__': <function cricketer.__init__ at 0x000001FB137000D0>, 'talk': <function cricketer.talk at 0x000001FB1372C048>, '__dict__': <attribute '__dict__' of 'cricketer' objects>, '__weakref__': <attribute '__weakref__' of 'cricketer' objects>, '__doc__': None}\n",
      "@@@@@@@@@@@@@@@@@@@@@@@@@@@@@@@@@@@@@@@@@@@@@@@@@@@@@@@@@@@@@@@@@@@@@@@@@@@@@@@@@@@@@@@@@@@@@@@@@@@@@@@@@@@@@@@@@@@@@@@@\n",
      "{'__module__': '__main__', 'team': 'India', 'coach': 'Rahul Dravid', '__init__': <function cricketer.__init__ at 0x000001FB137000D0>, 'talk': <function cricketer.talk at 0x000001FB1372C048>, '__dict__': <attribute '__dict__' of 'cricketer' objects>, '__weakref__': <attribute '__weakref__' of 'cricketer' objects>, '__doc__': None, 'jerssey': 'blue', 'gender': 'male'}\n"
     ]
    }
   ],
   "source": [
    "class cricketer:\n",
    "    team=\"India\"\n",
    "    coach=\"Rahul Dravid\"\n",
    "    def __init__(self,name):\n",
    "        self.name=name\n",
    "        cricketer.jerssey='blue'\n",
    "    def talk(self):\n",
    "        cricketer.gender=\"male\"\n",
    "print(cricketer.__dict__)\n",
    "s=cricketer(\"Dhoni\")\n",
    "print(\"@\"*120)\n",
    "s.talk()\n",
    "print(cricketer.__dict__)"
   ]
  },
  {
   "cell_type": "markdown",
   "metadata": {},
   "source": [
    "4)Inside class method we can declare a static varaible by using class name or by using class reference variable"
   ]
  },
  {
   "cell_type": "code",
   "execution_count": 86,
   "metadata": {},
   "outputs": [
    {
     "name": "stdout",
     "output_type": "stream",
     "text": [
      "{'__module__': '__main__', 'team': 'India', 'coach': 'Rahul Dravid', '__init__': <function cricketer.__init__ at 0x000001FB1372C0D0>, 'talk': <classmethod object at 0x000001FB13733E48>, '__dict__': <attribute '__dict__' of 'cricketer' objects>, '__weakref__': <attribute '__weakref__' of 'cricketer' objects>, '__doc__': None}\n",
      "@@@@@@@@@@@@@@@@@@@@@@@@@@@@@@@@@@@@@@@@@@@@@@@@@@@@@@@@@@@@@@@@@@@@@@@@@@@@@@@@@@@@@@@@@@@@@@@@@@@@@@@@@@@@@@@@@@@@@@@@\n",
      "{'__module__': '__main__', 'team': 'India', 'coach': 'Rahul Dravid', '__init__': <function cricketer.__init__ at 0x000001FB1372C0D0>, 'talk': <classmethod object at 0x000001FB13733E48>, '__dict__': <attribute '__dict__' of 'cricketer' objects>, '__weakref__': <attribute '__weakref__' of 'cricketer' objects>, '__doc__': None, 'jerssey': 'blue', 'gender': 'male', 'empire': 'Ravi'}\n"
     ]
    }
   ],
   "source": [
    "class cricketer:\n",
    "    team=\"India\"\n",
    "    coach=\"Rahul Dravid\"\n",
    "    def __init__(self,name):\n",
    "        self.name=name\n",
    "        cricketer.jerssey='blue'\n",
    "    @classmethod\n",
    "    def talk(cls):\n",
    "        cricketer.gender=\"male\"\n",
    "        cls.empire='Ravi'\n",
    "print(cricketer.__dict__)\n",
    "s=cricketer(\"Dhoni\")\n",
    "print(\"@\"*120)\n",
    "cricketer.talk()\n",
    "print(cricketer.__dict__)"
   ]
  },
  {
   "cell_type": "markdown",
   "metadata": {},
   "source": [
    "5)Inside static method we can declare a static varaible by using class name"
   ]
  },
  {
   "cell_type": "code",
   "execution_count": 85,
   "metadata": {},
   "outputs": [
    {
     "name": "stdout",
     "output_type": "stream",
     "text": [
      "{'__module__': '__main__', 'team': 'India', 'coach': 'Rahul Dravid', '__init__': <function cricketer.__init__ at 0x000001FB1372C268>, 'talk': <staticmethod object at 0x000001FB13733978>, '__dict__': <attribute '__dict__' of 'cricketer' objects>, '__weakref__': <attribute '__weakref__' of 'cricketer' objects>, '__doc__': None}\n",
      "@@@@@@@@@@@@@@@@@@@@@@@@@@@@@@@@@@@@@@@@@@@@@@@@@@@@@@@@@@@@@@@@@@@@@@@@@@@@@@@@@@@@@@@@@@@@@@@@@@@@@@@@@@@@@@@@@@@@@@@@\n",
      "{'__module__': '__main__', 'team': 'India', 'coach': 'Rahul Dravid', '__init__': <function cricketer.__init__ at 0x000001FB1372C268>, 'talk': <staticmethod object at 0x000001FB13733978>, '__dict__': <attribute '__dict__' of 'cricketer' objects>, '__weakref__': <attribute '__weakref__' of 'cricketer' objects>, '__doc__': None, 'jerssey': 'blue', 'language': 'english'}\n"
     ]
    }
   ],
   "source": [
    "class cricketer:\n",
    "    team=\"India\"\n",
    "    coach=\"Rahul Dravid\"\n",
    "    def __init__(self,name):\n",
    "        self.name=name\n",
    "        cricketer.jerssey='blue'\n",
    "    @staticmethod\n",
    "    def talk():\n",
    "        cricketer.language=\"english\"\n",
    "print(cricketer.__dict__)\n",
    "s=cricketer(\"Dhoni\")\n",
    "print(\"@\"*120)\n",
    "cricketer.talk()\n",
    "print(cricketer.__dict__)"
   ]
  },
  {
   "cell_type": "markdown",
   "metadata": {},
   "source": [
    "6)outside of a class by using class name"
   ]
  },
  {
   "cell_type": "code",
   "execution_count": 87,
   "metadata": {},
   "outputs": [
    {
     "name": "stdout",
     "output_type": "stream",
     "text": [
      "{'__module__': '__main__', 'team': 'India', 'coach': 'Rahul Dravid', '__init__': <function cricketer.__init__ at 0x000001FB1372C950>, '__dict__': <attribute '__dict__' of 'cricketer' objects>, '__weakref__': <attribute '__weakref__' of 'cricketer' objects>, '__doc__': None}\n",
      "@@@@@@@@@@@@@@@@@@@@@@@@@@@@@@@@@@@@@@@@@@@@@@@@@@@@@@@@@@@@@@@@@@@@@@@@@@@@@@@@@@@@@@@@@@@@@@@@@@@@@@@@@@@@@@@@@@@@@@@@\n",
      "{'__module__': '__main__', 'team': 'India', 'coach': 'Rahul Dravid', '__init__': <function cricketer.__init__ at 0x000001FB1372C950>, '__dict__': <attribute '__dict__' of 'cricketer' objects>, '__weakref__': <attribute '__weakref__' of 'cricketer' objects>, '__doc__': None, 'jerssey': 'blue', 'captain': 'virat'}\n"
     ]
    }
   ],
   "source": [
    "class cricketer:\n",
    "    team=\"India\"\n",
    "    coach=\"Rahul Dravid\"\n",
    "    def __init__(self,name):\n",
    "        self.name=name\n",
    "        cricketer.jerssey='blue'\n",
    "print(cricketer.__dict__)\n",
    "s=cricketer(\"Dhoni\")\n",
    "print(\"@\"*120)\n",
    "cricketer.captain='virat'\n",
    "print(cricketer.__dict__)"
   ]
  },
  {
   "cell_type": "markdown",
   "metadata": {},
   "source": [
    "#### how to acces static variables"
   ]
  },
  {
   "cell_type": "markdown",
   "metadata": {},
   "source": [
    "inside a constructer you can access static variables by using self and class name        "
   ]
  },
  {
   "cell_type": "markdown",
   "metadata": {},
   "source": [
    "here in bellow example we are using self inside a constructer to access a static variables and we  got the output.        \n",
    "this is because here when you write self.team, the pvm searches for the the instance variable with name self but it       \n",
    "is not there so then it searches for the static variable and it is found."
   ]
  },
  {
   "cell_type": "code",
   "execution_count": 24,
   "metadata": {},
   "outputs": [
    {
     "name": "stdout",
     "output_type": "stream",
     "text": [
      "India\n",
      "Rahul Dravid\n",
      "{}\n"
     ]
    }
   ],
   "source": [
    "#inside a constructor\n",
    "class cricketer:\n",
    "    team=\"India\"\n",
    "    coach=\"Rahul Dravid\"\n",
    "    def __init__(self):\n",
    "        print(self.team)\n",
    "        print(cricketer.coach)\n",
    "s=cricketer()\n",
    "print(s.__dict__)#we can see that there are no instance variable"
   ]
  },
  {
   "cell_type": "code",
   "execution_count": 25,
   "metadata": {},
   "outputs": [
    {
     "name": "stdout",
     "output_type": "stream",
     "text": [
      "India\n",
      "Rahul Dravid\n"
     ]
    }
   ],
   "source": [
    "#inside a instance method using self or class name\n",
    "class cricketer:\n",
    "    team=\"India\"\n",
    "    coach=\"Rahul Dravid\"\n",
    "    def __init__(self,name):\n",
    "        self.name=name\n",
    "    def talk(self):\n",
    "        print(self.team)\n",
    "        print(cricketer.coach)\n",
    "s1=cricketer('Dhoni')\n",
    "s1.talk()"
   ]
  },
  {
   "cell_type": "code",
   "execution_count": 14,
   "metadata": {},
   "outputs": [
    {
     "name": "stdout",
     "output_type": "stream",
     "text": [
      "India\n",
      "Rahul Dravid\n"
     ]
    }
   ],
   "source": [
    "#inside a class method using cls or class name\n",
    "class cricketer:\n",
    "    team=\"India\"\n",
    "    coach=\"Rahul Dravid\"\n",
    "    @classmethod\n",
    "    def talk(cls):\n",
    "        print(cls.team)\n",
    "        print(cricketer.coach)\n",
    "s=cricketer()\n",
    "s.talk()"
   ]
  },
  {
   "cell_type": "code",
   "execution_count": 16,
   "metadata": {},
   "outputs": [
    {
     "name": "stdout",
     "output_type": "stream",
     "text": [
      "India\n"
     ]
    }
   ],
   "source": [
    "#inside a static method using class name\n",
    "class cricketer:\n",
    "    team=\"India\"\n",
    "    coach=\"Rahul Dravid\"\n",
    "    @staticmethod\n",
    "    def talk():\n",
    "        print(cricketer.team)\n",
    "s=cricketer()\n",
    "s.talk()"
   ]
  },
  {
   "cell_type": "code",
   "execution_count": 17,
   "metadata": {},
   "outputs": [
    {
     "name": "stdout",
     "output_type": "stream",
     "text": [
      "India\n",
      "Rahul Dravid\n"
     ]
    }
   ],
   "source": [
    "#outside of class using object reference variable or class name\n",
    "class cricketer:\n",
    "    team=\"India\"\n",
    "    coach=\"Rahul Dravid\"\n",
    "s=cricketer()\n",
    "print(s.team)\n",
    "print(cricketer.coach)"
   ]
  },
  {
   "cell_type": "code",
   "execution_count": 23,
   "metadata": {},
   "outputs": [
    {
     "name": "stdout",
     "output_type": "stream",
     "text": [
      "20\n",
      "India\n",
      "**************************************************\n",
      "Ravi\n",
      "Rahul Dravid\n",
      "***********************************************\n",
      "India\n",
      "India\n",
      "***********************************************\n",
      "ind\n",
      "ind\n",
      "***********************************************\n",
      "Rahul Dravid\n"
     ]
    }
   ],
   "source": [
    "class cricketer:\n",
    "    team=\"India\"\n",
    "    coach=\"Rahul Dravid\"\n",
    "    def __init__(self):\n",
    "        self.team=20\n",
    "    def talk(self):\n",
    "        self.coach=\"Ravi\"\n",
    "        print(self.coach)\n",
    "        print(cricketer.coach)\n",
    "        print(\"***********************************************\")\n",
    "    @classmethod\n",
    "    def info(cls):\n",
    "        print(cls.team)\n",
    "        print(cricketer.team)\n",
    "        print(\"***********************************************\")\n",
    "        cls.team='ind'\n",
    "        print(cls.team)\n",
    "        print(cricketer.team)\n",
    "        print(\"***********************************************\")\n",
    "    @staticmethod\n",
    "    def hello():\n",
    "        print(cricketer.coach)\n",
    "s=cricketer()\n",
    "print(s.team)\n",
    "print(cricketer.team)\n",
    "print(\"*\"*50)\n",
    "s.talk()\n",
    "s.info()\n",
    "s.hello()"
   ]
  },
  {
   "cell_type": "markdown",
   "metadata": {},
   "source": [
    "#### how to modify or update static variables"
   ]
  },
  {
   "cell_type": "code",
   "execution_count": 28,
   "metadata": {},
   "outputs": [
    {
     "name": "stdout",
     "output_type": "stream",
     "text": [
      "Rahul Dravid\n",
      "Ravi\n"
     ]
    }
   ],
   "source": [
    "#inside constructor by using class name\n",
    "class cricketer:\n",
    "    team=\"India\"\n",
    "    coach=\"Rahul Dravid\"\n",
    "    def __init__(self):\n",
    "        print(cricketer.coach)\n",
    "        cricketer.coach=\"Ravi\"\n",
    "        print(cricketer.coach)\n",
    "s=cricketer()"
   ]
  },
  {
   "cell_type": "markdown",
   "metadata": {},
   "source": [
    "Note we cannot change using self.Because even we try to change it will create new instance variable"
   ]
  },
  {
   "cell_type": "code",
   "execution_count": 30,
   "metadata": {},
   "outputs": [
    {
     "name": "stdout",
     "output_type": "stream",
     "text": [
      "Rahul Dravid\n",
      "Rahul Dravid\n",
      "{'coach': 'Ravi'}\n"
     ]
    }
   ],
   "source": [
    "class cricketer:\n",
    "    team=\"India\"\n",
    "    coach=\"Rahul Dravid\"\n",
    "    def __init__(self):\n",
    "        print(cricketer.coach)\n",
    "        self.coach=\"Ravi\"\n",
    "        print(cricketer.coach)\n",
    "s=cricketer()\n",
    "print(s.__dict__)"
   ]
  },
  {
   "cell_type": "code",
   "execution_count": 33,
   "metadata": {},
   "outputs": [
    {
     "name": "stdout",
     "output_type": "stream",
     "text": [
      "Rahul Dravid\n",
      "Ravi\n"
     ]
    }
   ],
   "source": [
    "#inside a instance method using classname same as constructor\n",
    "class cricketer:\n",
    "    team=\"India\"\n",
    "    coach=\"Rahul Dravid\"\n",
    "    def talk(self):\n",
    "        print(cricketer.coach)\n",
    "        cricketer.coach=\"Ravi\"\n",
    "        print(cricketer.coach)\n",
    "s=cricketer()\n",
    "s.talk()"
   ]
  },
  {
   "cell_type": "code",
   "execution_count": 34,
   "metadata": {},
   "outputs": [
    {
     "name": "stdout",
     "output_type": "stream",
     "text": [
      "Rahul Dravid\n",
      "Rahul Dravid\n",
      "{'coach': 'Ravi'}\n"
     ]
    }
   ],
   "source": [
    "class cricketer:\n",
    "    team=\"India\"\n",
    "    coach=\"Rahul Dravid\"\n",
    "    def talk(self):\n",
    "        print(cricketer.coach)\n",
    "        self.coach=\"Ravi\"\n",
    "        print(cricketer.coach)\n",
    "s=cricketer()\n",
    "s.talk()\n",
    "print(s.__dict__)"
   ]
  },
  {
   "cell_type": "code",
   "execution_count": 35,
   "metadata": {},
   "outputs": [
    {
     "name": "stdout",
     "output_type": "stream",
     "text": [
      "Rahul Dravid\n",
      "Ravi\n",
      "India\n",
      "ind\n"
     ]
    }
   ],
   "source": [
    "#inside a class method using the cls or class name\n",
    "class cricketer:\n",
    "    team=\"India\"\n",
    "    coach=\"Rahul Dravid\"\n",
    "    @classmethod\n",
    "    def talk(cls):\n",
    "        print(cricketer.coach)\n",
    "        cricketer.coach='Ravi'\n",
    "        print(cricketer.coach)\n",
    "        print(cricketer.team)\n",
    "        cls.team=\"ind\"\n",
    "        print(cricketer.team)\n",
    "        \n",
    "s=cricketer()\n",
    "s.talk()"
   ]
  },
  {
   "cell_type": "code",
   "execution_count": 36,
   "metadata": {},
   "outputs": [
    {
     "name": "stdout",
     "output_type": "stream",
     "text": [
      "India\n",
      "Ind\n"
     ]
    }
   ],
   "source": [
    "#inside a static method using class name\n",
    "class cricketer:\n",
    "    team=\"India\"\n",
    "    coach=\"Rahul Dravid\"\n",
    "    @staticmethod\n",
    "    def talk():\n",
    "        print(cricketer.team)\n",
    "        cricketer.team='Ind'\n",
    "        print(cricketer.team)\n",
    "        \n",
    "s=cricketer()\n",
    "s.talk()"
   ]
  },
  {
   "cell_type": "code",
   "execution_count": 37,
   "metadata": {},
   "outputs": [
    {
     "name": "stdout",
     "output_type": "stream",
     "text": [
      "Rahul Dravid\n",
      "Ravi\n"
     ]
    }
   ],
   "source": [
    "#outside of class using object reference variable or class name\n",
    "class cricketer:\n",
    "    team=\"India\"\n",
    "    coach=\"Rahul Dravid\"\n",
    "s=cricketer()\n",
    "print(cricketer.coach)\n",
    "cricketer.coach=\"Ravi\"\n",
    "print(cricketer.coach)"
   ]
  },
  {
   "cell_type": "code",
   "execution_count": 39,
   "metadata": {},
   "outputs": [
    {
     "name": "stdout",
     "output_type": "stream",
     "text": [
      "Rahul Dravid\n",
      "Rahul Dravid\n",
      "{'coach': 'Ravi'}\n"
     ]
    }
   ],
   "source": [
    "class cricketer:\n",
    "    team=\"India\"\n",
    "    coach=\"Rahul Dravid\"\n",
    "s=cricketer()\n",
    "print(cricketer.coach)\n",
    "s.coach=\"Ravi\"\n",
    "print(cricketer.coach)\n",
    "print(s.__dict__)"
   ]
  },
  {
   "cell_type": "markdown",
   "metadata": {},
   "source": [
    "##### Few questions time "
   ]
  },
  {
   "cell_type": "code",
   "execution_count": null,
   "metadata": {},
   "outputs": [],
   "source": [
    "class hero:\n",
    "    gender='male'\n",
    "    def __init__(self):\n",
    "        self.gender='M'\n",
    "h=hero()\n",
    "print(h.gender)"
   ]
  },
  {
   "cell_type": "code",
   "execution_count": null,
   "metadata": {},
   "outputs": [],
   "source": [
    "class hero:\n",
    "    gender='male'\n",
    "    language='Telugu'\n",
    "    def __init__(self):\n",
    "        self.gender='M'\n",
    "    def talk(self):\n",
    "        hero.gender='Man'\n",
    "        self.language='Tel'\n",
    "        self.gender='MEN'\n",
    "        hero.language='hindi'\n",
    "h=hero()\n",
    "print(h.gender,hero.gender)\n",
    "print(hero.language,h.language)\n",
    "h.talk()\n",
    "print(h.gender,hero.gender)\n",
    "print(hero.language,h.language)"
   ]
  },
  {
   "cell_type": "markdown",
   "metadata": {},
   "source": [
    "##### with multiple objects "
   ]
  },
  {
   "cell_type": "code",
   "execution_count": null,
   "metadata": {},
   "outputs": [],
   "source": [
    "class hero:\n",
    "    gender='male'\n",
    "    language='Telugu'\n",
    "    def __init__(self):\n",
    "        self.gender='M'\n",
    "    def talk(self):\n",
    "        hero.gender='Man'\n",
    "        self.language='Tel'\n",
    "        self.gender='MEN'\n",
    "        hero.language='hindi'\n",
    "h=hero()\n",
    "h1=hero()\n",
    "print(h.gender,hero.gender)\n",
    "print(hero.language,h1.language)\n",
    "h.talk()\n",
    "print(h.gender,hero.gender)\n",
    "print(hero.language,h.language)\n",
    "print(h1.gender,hero.gender)\n",
    "hero.gender=\"Female\"\n",
    "print(h1.gender,hero.gender)\n",
    "print(h.gender,hero.gender)"
   ]
  },
  {
   "cell_type": "markdown",
   "metadata": {},
   "source": [
    "#### deleting a static variable"
   ]
  },
  {
   "cell_type": "code",
   "execution_count": 46,
   "metadata": {},
   "outputs": [
    {
     "name": "stdout",
     "output_type": "stream",
     "text": [
      "Rahul Dravid\n",
      "Ravi\n",
      "{'__module__': '__main__', 'coach': 'Ravi', '__init__': <function cricketer.__init__ at 0x0000023D5DED6840>, '__dict__': <attribute '__dict__' of 'cricketer' objects>, '__weakref__': <attribute '__weakref__' of 'cricketer' objects>, '__doc__': None}\n"
     ]
    },
    {
     "ename": "AttributeError",
     "evalue": "type object 'cricketer' has no attribute 'team'",
     "output_type": "error",
     "traceback": [
      "\u001b[1;31m---------------------------------------------------------------------------\u001b[0m",
      "\u001b[1;31mAttributeError\u001b[0m                            Traceback (most recent call last)",
      "\u001b[1;32m<ipython-input-46-e150c729fe32>\u001b[0m in \u001b[0;36m<module>\u001b[1;34m()\u001b[0m\n\u001b[0;32m     10\u001b[0m \u001b[0ms\u001b[0m\u001b[1;33m=\u001b[0m\u001b[0mcricketer\u001b[0m\u001b[1;33m(\u001b[0m\u001b[1;33m)\u001b[0m\u001b[1;33m\u001b[0m\u001b[0m\n\u001b[0;32m     11\u001b[0m \u001b[0mprint\u001b[0m\u001b[1;33m(\u001b[0m\u001b[0mcricketer\u001b[0m\u001b[1;33m.\u001b[0m\u001b[0m__dict__\u001b[0m\u001b[1;33m)\u001b[0m\u001b[1;33m\u001b[0m\u001b[0m\n\u001b[1;32m---> 12\u001b[1;33m \u001b[0mprint\u001b[0m\u001b[1;33m(\u001b[0m\u001b[0mcricketer\u001b[0m\u001b[1;33m.\u001b[0m\u001b[0mteam\u001b[0m\u001b[1;33m)\u001b[0m\u001b[1;33m\u001b[0m\u001b[0m\n\u001b[0m",
      "\u001b[1;31mAttributeError\u001b[0m: type object 'cricketer' has no attribute 'team'"
     ]
    }
   ],
   "source": [
    "#inside constructor by using class name\n",
    "class cricketer:\n",
    "    team=\"India\"\n",
    "    coach=\"Rahul Dravid\"\n",
    "    def __init__(self):\n",
    "        print(cricketer.coach)\n",
    "        cricketer.coach=\"Ravi\"\n",
    "        del cricketer.team\n",
    "        print(cricketer.coach)\n",
    "s=cricketer()\n",
    "print(cricketer.__dict__)\n",
    "print(cricketer.team)"
   ]
  },
  {
   "cell_type": "code",
   "execution_count": 47,
   "metadata": {},
   "outputs": [
    {
     "name": "stdout",
     "output_type": "stream",
     "text": [
      "Rahul Dravid\n"
     ]
    },
    {
     "ename": "AttributeError",
     "evalue": "team",
     "output_type": "error",
     "traceback": [
      "\u001b[1;31m---------------------------------------------------------------------------\u001b[0m",
      "\u001b[1;31mAttributeError\u001b[0m                            Traceback (most recent call last)",
      "\u001b[1;32m<ipython-input-47-f4ce8c64424c>\u001b[0m in \u001b[0;36m<module>\u001b[1;34m()\u001b[0m\n\u001b[0;32m      7\u001b[0m         \u001b[1;32mdel\u001b[0m \u001b[0mself\u001b[0m\u001b[1;33m.\u001b[0m\u001b[0mteam\u001b[0m\u001b[1;33m\u001b[0m\u001b[0m\n\u001b[0;32m      8\u001b[0m         \u001b[0mprint\u001b[0m\u001b[1;33m(\u001b[0m\u001b[0mcricketer\u001b[0m\u001b[1;33m.\u001b[0m\u001b[0mcoach\u001b[0m\u001b[1;33m)\u001b[0m\u001b[1;33m\u001b[0m\u001b[0m\n\u001b[1;32m----> 9\u001b[1;33m \u001b[0ms\u001b[0m\u001b[1;33m=\u001b[0m\u001b[0mcricketer\u001b[0m\u001b[1;33m(\u001b[0m\u001b[1;33m)\u001b[0m\u001b[1;33m\u001b[0m\u001b[0m\n\u001b[0m\u001b[0;32m     10\u001b[0m \u001b[0mprint\u001b[0m\u001b[1;33m(\u001b[0m\u001b[0mcricketer\u001b[0m\u001b[1;33m.\u001b[0m\u001b[0m__dict__\u001b[0m\u001b[1;33m)\u001b[0m\u001b[1;33m\u001b[0m\u001b[0m\n\u001b[0;32m     11\u001b[0m \u001b[0mprint\u001b[0m\u001b[1;33m(\u001b[0m\u001b[0mcricketer\u001b[0m\u001b[1;33m.\u001b[0m\u001b[0mteam\u001b[0m\u001b[1;33m)\u001b[0m\u001b[1;33m\u001b[0m\u001b[0m\n",
      "\u001b[1;32m<ipython-input-47-f4ce8c64424c>\u001b[0m in \u001b[0;36m__init__\u001b[1;34m(self)\u001b[0m\n\u001b[0;32m      5\u001b[0m         \u001b[0mprint\u001b[0m\u001b[1;33m(\u001b[0m\u001b[0mcricketer\u001b[0m\u001b[1;33m.\u001b[0m\u001b[0mcoach\u001b[0m\u001b[1;33m)\u001b[0m\u001b[1;33m\u001b[0m\u001b[0m\n\u001b[0;32m      6\u001b[0m         \u001b[0mcricketer\u001b[0m\u001b[1;33m.\u001b[0m\u001b[0mcoach\u001b[0m\u001b[1;33m=\u001b[0m\u001b[1;34m\"Ravi\"\u001b[0m\u001b[1;33m\u001b[0m\u001b[0m\n\u001b[1;32m----> 7\u001b[1;33m         \u001b[1;32mdel\u001b[0m \u001b[0mself\u001b[0m\u001b[1;33m.\u001b[0m\u001b[0mteam\u001b[0m\u001b[1;33m\u001b[0m\u001b[0m\n\u001b[0m\u001b[0;32m      8\u001b[0m         \u001b[0mprint\u001b[0m\u001b[1;33m(\u001b[0m\u001b[0mcricketer\u001b[0m\u001b[1;33m.\u001b[0m\u001b[0mcoach\u001b[0m\u001b[1;33m)\u001b[0m\u001b[1;33m\u001b[0m\u001b[0m\n\u001b[0;32m      9\u001b[0m \u001b[0ms\u001b[0m\u001b[1;33m=\u001b[0m\u001b[0mcricketer\u001b[0m\u001b[1;33m(\u001b[0m\u001b[1;33m)\u001b[0m\u001b[1;33m\u001b[0m\u001b[0m\n",
      "\u001b[1;31mAttributeError\u001b[0m: team"
     ]
    }
   ],
   "source": [
    "#we cannot delete the static variable using self\n",
    "class cricketer:\n",
    "    team=\"India\"\n",
    "    coach=\"Rahul Dravid\"\n",
    "    def __init__(self):\n",
    "        print(cricketer.coach)\n",
    "        cricketer.coach=\"Ravi\"\n",
    "        del self.team\n",
    "        print(cricketer.coach)\n",
    "s=cricketer()\n",
    "print(cricketer.__dict__)\n",
    "print(cricketer.team)"
   ]
  },
  {
   "cell_type": "code",
   "execution_count": 50,
   "metadata": {},
   "outputs": [
    {
     "name": "stdout",
     "output_type": "stream",
     "text": [
      "Rahul Dravid\n",
      "Rahul Dravid\n",
      "{'__module__': '__main__', 'coach': 'Rahul Dravid', 'talk': <function cricketer.talk at 0x0000023D5DED6A60>, '__dict__': <attribute '__dict__' of 'cricketer' objects>, '__weakref__': <attribute '__weakref__' of 'cricketer' objects>, '__doc__': None}\n"
     ]
    },
    {
     "ename": "AttributeError",
     "evalue": "type object 'cricketer' has no attribute 'team'",
     "output_type": "error",
     "traceback": [
      "\u001b[1;31m---------------------------------------------------------------------------\u001b[0m",
      "\u001b[1;31mAttributeError\u001b[0m                            Traceback (most recent call last)",
      "\u001b[1;32m<ipython-input-50-cf952f58c86f>\u001b[0m in \u001b[0;36m<module>\u001b[1;34m()\u001b[0m\n\u001b[0;32m     10\u001b[0m \u001b[0ms\u001b[0m\u001b[1;33m.\u001b[0m\u001b[0mtalk\u001b[0m\u001b[1;33m(\u001b[0m\u001b[1;33m)\u001b[0m\u001b[1;33m\u001b[0m\u001b[0m\n\u001b[0;32m     11\u001b[0m \u001b[0mprint\u001b[0m\u001b[1;33m(\u001b[0m\u001b[0mcricketer\u001b[0m\u001b[1;33m.\u001b[0m\u001b[0m__dict__\u001b[0m\u001b[1;33m)\u001b[0m\u001b[1;33m\u001b[0m\u001b[0m\n\u001b[1;32m---> 12\u001b[1;33m \u001b[0mprint\u001b[0m\u001b[1;33m(\u001b[0m\u001b[0mcricketer\u001b[0m\u001b[1;33m.\u001b[0m\u001b[0mteam\u001b[0m\u001b[1;33m)\u001b[0m\u001b[1;33m\u001b[0m\u001b[0m\n\u001b[0m",
      "\u001b[1;31mAttributeError\u001b[0m: type object 'cricketer' has no attribute 'team'"
     ]
    }
   ],
   "source": [
    "#inside a instance method using classname same as constructor\n",
    "class cricketer:\n",
    "    team=\"India\"\n",
    "    coach=\"Rahul Dravid\"\n",
    "    def talk(self):\n",
    "        print(cricketer.coach)\n",
    "        del cricketer.team\n",
    "        print(cricketer.coach)\n",
    "s=cricketer()\n",
    "s.talk()\n",
    "print(cricketer.__dict__)\n",
    "print(cricketer.team)"
   ]
  },
  {
   "cell_type": "code",
   "execution_count": 51,
   "metadata": {},
   "outputs": [
    {
     "name": "stdout",
     "output_type": "stream",
     "text": [
      "Rahul Dravid\n"
     ]
    },
    {
     "ename": "AttributeError",
     "evalue": "team",
     "output_type": "error",
     "traceback": [
      "\u001b[1;31m---------------------------------------------------------------------------\u001b[0m",
      "\u001b[1;31mAttributeError\u001b[0m                            Traceback (most recent call last)",
      "\u001b[1;32m<ipython-input-51-37acb21676cd>\u001b[0m in \u001b[0;36m<module>\u001b[1;34m()\u001b[0m\n\u001b[0;32m      7\u001b[0m         \u001b[0mprint\u001b[0m\u001b[1;33m(\u001b[0m\u001b[0mcricketer\u001b[0m\u001b[1;33m.\u001b[0m\u001b[0mcoach\u001b[0m\u001b[1;33m)\u001b[0m\u001b[1;33m\u001b[0m\u001b[0m\n\u001b[0;32m      8\u001b[0m \u001b[0ms\u001b[0m\u001b[1;33m=\u001b[0m\u001b[0mcricketer\u001b[0m\u001b[1;33m(\u001b[0m\u001b[1;33m)\u001b[0m\u001b[1;33m\u001b[0m\u001b[0m\n\u001b[1;32m----> 9\u001b[1;33m \u001b[0ms\u001b[0m\u001b[1;33m.\u001b[0m\u001b[0mtalk\u001b[0m\u001b[1;33m(\u001b[0m\u001b[1;33m)\u001b[0m\u001b[1;33m\u001b[0m\u001b[0m\n\u001b[0m\u001b[0;32m     10\u001b[0m \u001b[0mprint\u001b[0m\u001b[1;33m(\u001b[0m\u001b[0mcricketer\u001b[0m\u001b[1;33m.\u001b[0m\u001b[0m__dict__\u001b[0m\u001b[1;33m)\u001b[0m\u001b[1;33m\u001b[0m\u001b[0m\n\u001b[0;32m     11\u001b[0m \u001b[0mprint\u001b[0m\u001b[1;33m(\u001b[0m\u001b[0mcricketer\u001b[0m\u001b[1;33m.\u001b[0m\u001b[0mteam\u001b[0m\u001b[1;33m)\u001b[0m\u001b[1;33m\u001b[0m\u001b[0m\n",
      "\u001b[1;32m<ipython-input-51-37acb21676cd>\u001b[0m in \u001b[0;36mtalk\u001b[1;34m(self)\u001b[0m\n\u001b[0;32m      4\u001b[0m     \u001b[1;32mdef\u001b[0m \u001b[0mtalk\u001b[0m\u001b[1;33m(\u001b[0m\u001b[0mself\u001b[0m\u001b[1;33m)\u001b[0m\u001b[1;33m:\u001b[0m\u001b[1;33m\u001b[0m\u001b[0m\n\u001b[0;32m      5\u001b[0m         \u001b[0mprint\u001b[0m\u001b[1;33m(\u001b[0m\u001b[0mcricketer\u001b[0m\u001b[1;33m.\u001b[0m\u001b[0mcoach\u001b[0m\u001b[1;33m)\u001b[0m\u001b[1;33m\u001b[0m\u001b[0m\n\u001b[1;32m----> 6\u001b[1;33m         \u001b[1;32mdel\u001b[0m \u001b[0mself\u001b[0m\u001b[1;33m.\u001b[0m\u001b[0mteam\u001b[0m\u001b[1;33m\u001b[0m\u001b[0m\n\u001b[0m\u001b[0;32m      7\u001b[0m         \u001b[0mprint\u001b[0m\u001b[1;33m(\u001b[0m\u001b[0mcricketer\u001b[0m\u001b[1;33m.\u001b[0m\u001b[0mcoach\u001b[0m\u001b[1;33m)\u001b[0m\u001b[1;33m\u001b[0m\u001b[0m\n\u001b[0;32m      8\u001b[0m \u001b[0ms\u001b[0m\u001b[1;33m=\u001b[0m\u001b[0mcricketer\u001b[0m\u001b[1;33m(\u001b[0m\u001b[1;33m)\u001b[0m\u001b[1;33m\u001b[0m\u001b[0m\n",
      "\u001b[1;31mAttributeError\u001b[0m: team"
     ]
    }
   ],
   "source": [
    "class cricketer:\n",
    "    team=\"India\"\n",
    "    coach=\"Rahul Dravid\"\n",
    "    def talk(self):\n",
    "        print(cricketer.coach)\n",
    "        del self.team\n",
    "        print(cricketer.coach)\n",
    "s=cricketer()\n",
    "s.talk()\n",
    "print(cricketer.__dict__)\n",
    "print(cricketer.team)"
   ]
  },
  {
   "cell_type": "code",
   "execution_count": 55,
   "metadata": {},
   "outputs": [
    {
     "name": "stdout",
     "output_type": "stream",
     "text": [
      "India\n",
      "Rahul Dravid\n",
      "{'__module__': '__main__', 'talk': <classmethod object at 0x0000023D5DEE92E8>, '__dict__': <attribute '__dict__' of 'cricketer' objects>, '__weakref__': <attribute '__weakref__' of 'cricketer' objects>, '__doc__': None}\n"
     ]
    },
    {
     "ename": "AttributeError",
     "evalue": "type object 'cricketer' has no attribute 'team'",
     "output_type": "error",
     "traceback": [
      "\u001b[1;31m---------------------------------------------------------------------------\u001b[0m",
      "\u001b[1;31mAttributeError\u001b[0m                            Traceback (most recent call last)",
      "\u001b[1;32m<ipython-input-55-dfa1042a6575>\u001b[0m in \u001b[0;36m<module>\u001b[1;34m()\u001b[0m\n\u001b[0;32m     14\u001b[0m \u001b[0ms\u001b[0m\u001b[1;33m.\u001b[0m\u001b[0mtalk\u001b[0m\u001b[1;33m(\u001b[0m\u001b[1;33m)\u001b[0m\u001b[1;33m\u001b[0m\u001b[0m\n\u001b[0;32m     15\u001b[0m \u001b[0mprint\u001b[0m\u001b[1;33m(\u001b[0m\u001b[0mcricketer\u001b[0m\u001b[1;33m.\u001b[0m\u001b[0m__dict__\u001b[0m\u001b[1;33m)\u001b[0m\u001b[1;33m\u001b[0m\u001b[0m\n\u001b[1;32m---> 16\u001b[1;33m \u001b[0mprint\u001b[0m\u001b[1;33m(\u001b[0m\u001b[0mcricketer\u001b[0m\u001b[1;33m.\u001b[0m\u001b[0mteam\u001b[0m\u001b[1;33m)\u001b[0m\u001b[1;33m\u001b[0m\u001b[0m\n\u001b[0m\u001b[0;32m     17\u001b[0m \u001b[0mprint\u001b[0m\u001b[1;33m(\u001b[0m\u001b[0mcricketer\u001b[0m\u001b[1;33m.\u001b[0m\u001b[0mcoach\u001b[0m\u001b[1;33m)\u001b[0m\u001b[1;33m\u001b[0m\u001b[0m\n",
      "\u001b[1;31mAttributeError\u001b[0m: type object 'cricketer' has no attribute 'team'"
     ]
    }
   ],
   "source": [
    "#inside a class method using the cls or class name\n",
    "class cricketer:\n",
    "    team=\"India\"\n",
    "    coach=\"Rahul Dravid\"\n",
    "    @classmethod\n",
    "    def talk(cls):\n",
    "        print(cricketer.team)\n",
    "        print(cricketer.coach)\n",
    "        del cls.team\n",
    "        del cricketer.coach\n",
    "        \n",
    "        \n",
    "s=cricketer()\n",
    "s.talk()\n",
    "print(cricketer.__dict__)\n",
    "print(cricketer.team)\n",
    "print(cricketer.coach)"
   ]
  },
  {
   "cell_type": "code",
   "execution_count": 57,
   "metadata": {},
   "outputs": [
    {
     "name": "stdout",
     "output_type": "stream",
     "text": [
      "India\n"
     ]
    },
    {
     "ename": "AttributeError",
     "evalue": "type object 'cricketer' has no attribute 'team'",
     "output_type": "error",
     "traceback": [
      "\u001b[1;31m---------------------------------------------------------------------------\u001b[0m",
      "\u001b[1;31mAttributeError\u001b[0m                            Traceback (most recent call last)",
      "\u001b[1;32m<ipython-input-57-1140d4abf155>\u001b[0m in \u001b[0;36m<module>\u001b[1;34m()\u001b[0m\n\u001b[0;32m     11\u001b[0m \u001b[0ms\u001b[0m\u001b[1;33m=\u001b[0m\u001b[0mcricketer\u001b[0m\u001b[1;33m(\u001b[0m\u001b[1;33m)\u001b[0m\u001b[1;33m\u001b[0m\u001b[0m\n\u001b[0;32m     12\u001b[0m \u001b[0ms\u001b[0m\u001b[1;33m.\u001b[0m\u001b[0mtalk\u001b[0m\u001b[1;33m(\u001b[0m\u001b[1;33m)\u001b[0m\u001b[1;33m\u001b[0m\u001b[0m\n\u001b[1;32m---> 13\u001b[1;33m \u001b[0mprint\u001b[0m\u001b[1;33m(\u001b[0m\u001b[0mcricketer\u001b[0m\u001b[1;33m.\u001b[0m\u001b[0mteam\u001b[0m\u001b[1;33m)\u001b[0m\u001b[1;33m\u001b[0m\u001b[0m\n\u001b[0m",
      "\u001b[1;31mAttributeError\u001b[0m: type object 'cricketer' has no attribute 'team'"
     ]
    }
   ],
   "source": [
    "#inside a static method using class name\n",
    "class cricketer:\n",
    "    team=\"India\"\n",
    "    coach=\"Rahul Dravid\"\n",
    "    @staticmethod\n",
    "    def talk():\n",
    "        print(cricketer.team)\n",
    "        del cricketer.team\n",
    "       \n",
    "        \n",
    "s=cricketer()\n",
    "s.talk()\n",
    "print(cricketer.team)"
   ]
  },
  {
   "cell_type": "code",
   "execution_count": 58,
   "metadata": {},
   "outputs": [
    {
     "name": "stdout",
     "output_type": "stream",
     "text": [
      "Rahul Dravid\n"
     ]
    },
    {
     "ename": "AttributeError",
     "evalue": "type object 'cricketer' has no attribute 'coach'",
     "output_type": "error",
     "traceback": [
      "\u001b[1;31m---------------------------------------------------------------------------\u001b[0m",
      "\u001b[1;31mAttributeError\u001b[0m                            Traceback (most recent call last)",
      "\u001b[1;32m<ipython-input-58-87671aa2a71b>\u001b[0m in \u001b[0;36m<module>\u001b[1;34m()\u001b[0m\n\u001b[0;32m      6\u001b[0m \u001b[0mprint\u001b[0m\u001b[1;33m(\u001b[0m\u001b[0mcricketer\u001b[0m\u001b[1;33m.\u001b[0m\u001b[0mcoach\u001b[0m\u001b[1;33m)\u001b[0m\u001b[1;33m\u001b[0m\u001b[0m\n\u001b[0;32m      7\u001b[0m \u001b[1;32mdel\u001b[0m \u001b[0mcricketer\u001b[0m\u001b[1;33m.\u001b[0m\u001b[0mcoach\u001b[0m\u001b[1;33m\u001b[0m\u001b[0m\n\u001b[1;32m----> 8\u001b[1;33m \u001b[0mprint\u001b[0m\u001b[1;33m(\u001b[0m\u001b[0mcricketer\u001b[0m\u001b[1;33m.\u001b[0m\u001b[0mcoach\u001b[0m\u001b[1;33m)\u001b[0m\u001b[1;33m\u001b[0m\u001b[0m\n\u001b[0m",
      "\u001b[1;31mAttributeError\u001b[0m: type object 'cricketer' has no attribute 'coach'"
     ]
    }
   ],
   "source": [
    "#outside of class using object reference variable or class name\n",
    "class cricketer:\n",
    "    team=\"India\"\n",
    "    coach=\"Rahul Dravid\"\n",
    "s=cricketer()\n",
    "print(cricketer.coach)\n",
    "del cricketer.coach\n",
    "print(cricketer.coach)"
   ]
  },
  {
   "cell_type": "code",
   "execution_count": 61,
   "metadata": {},
   "outputs": [
    {
     "name": "stdout",
     "output_type": "stream",
     "text": [
      "Rahul Dravid\n"
     ]
    },
    {
     "ename": "AttributeError",
     "evalue": "coach",
     "output_type": "error",
     "traceback": [
      "\u001b[1;31m---------------------------------------------------------------------------\u001b[0m",
      "\u001b[1;31mAttributeError\u001b[0m                            Traceback (most recent call last)",
      "\u001b[1;32m<ipython-input-61-e706031d7558>\u001b[0m in \u001b[0;36m<module>\u001b[1;34m()\u001b[0m\n\u001b[0;32m      4\u001b[0m \u001b[0ms\u001b[0m\u001b[1;33m=\u001b[0m\u001b[0mcricketer\u001b[0m\u001b[1;33m(\u001b[0m\u001b[1;33m)\u001b[0m\u001b[1;33m\u001b[0m\u001b[0m\n\u001b[0;32m      5\u001b[0m \u001b[0mprint\u001b[0m\u001b[1;33m(\u001b[0m\u001b[0mcricketer\u001b[0m\u001b[1;33m.\u001b[0m\u001b[0mcoach\u001b[0m\u001b[1;33m)\u001b[0m\u001b[1;33m\u001b[0m\u001b[0m\n\u001b[1;32m----> 6\u001b[1;33m \u001b[1;32mdel\u001b[0m \u001b[0ms\u001b[0m\u001b[1;33m.\u001b[0m\u001b[0mcoach\u001b[0m\u001b[1;33m\u001b[0m\u001b[0m\n\u001b[0m\u001b[0;32m      7\u001b[0m \u001b[0mprint\u001b[0m\u001b[1;33m(\u001b[0m\u001b[0mcricketer\u001b[0m\u001b[1;33m.\u001b[0m\u001b[0mcoach\u001b[0m\u001b[1;33m)\u001b[0m\u001b[1;33m\u001b[0m\u001b[0m\n",
      "\u001b[1;31mAttributeError\u001b[0m: coach"
     ]
    }
   ],
   "source": [
    "class cricketer:\n",
    "    team=\"India\"\n",
    "    coach=\"Rahul Dravid\"\n",
    "s=cricketer()\n",
    "print(cricketer.coach)\n",
    "del s.coach\n",
    "print(cricketer.coach)"
   ]
  },
  {
   "cell_type": "markdown",
   "metadata": {},
   "source": [
    "local variables \n",
    "-----------------"
   ]
  },
  {
   "cell_type": "markdown",
   "metadata": {},
   "source": [
    "local variables are the variables in which they are created inside a method for         \n",
    "use in bussiness logic and their scope is within the method      \n",
    "local variables can used in the method in which they are created not from outside of the method        \n",
    "they are declared directly inside a mehtod without any self or class name          \n",
    "they are created during method execution and once the method is over they are deleted"
   ]
  },
  {
   "cell_type": "code",
   "execution_count": 63,
   "metadata": {},
   "outputs": [
    {
     "name": "stdout",
     "output_type": "stream",
     "text": [
      "kohli 34 1359797.5999999999\n",
      "Dhoni 40 3147797.6\n"
     ]
    },
    {
     "ename": "NameError",
     "evalue": "name 'salary' is not defined",
     "output_type": "error",
     "traceback": [
      "\u001b[1;31m---------------------------------------------------------------------------\u001b[0m",
      "\u001b[1;31mNameError\u001b[0m                                 Traceback (most recent call last)",
      "\u001b[1;32m<ipython-input-63-982c9468543a>\u001b[0m in \u001b[0;36m<module>\u001b[1;34m()\u001b[0m\n\u001b[0;32m     12\u001b[0m \u001b[0ms\u001b[0m\u001b[1;33m=\u001b[0m\u001b[0mcricketer\u001b[0m\u001b[1;33m(\u001b[0m\u001b[1;34m'kohli'\u001b[0m\u001b[1;33m,\u001b[0m\u001b[1;34m'34'\u001b[0m\u001b[1;33m,\u001b[0m\u001b[1;36m2243434\u001b[0m\u001b[1;33m,\u001b[0m\u001b[1;36m34343\u001b[0m\u001b[1;33m)\u001b[0m\u001b[1;33m\u001b[0m\u001b[0m\n\u001b[0;32m     13\u001b[0m \u001b[0ms1\u001b[0m\u001b[1;33m=\u001b[0m\u001b[0mcricketer\u001b[0m\u001b[1;33m(\u001b[0m\u001b[1;34m'Dhoni'\u001b[0m\u001b[1;33m,\u001b[0m\u001b[1;34m'40'\u001b[0m\u001b[1;33m,\u001b[0m\u001b[1;36m5243434\u001b[0m\u001b[1;33m,\u001b[0m\u001b[1;36m4343\u001b[0m\u001b[1;33m)\u001b[0m\u001b[1;33m\u001b[0m\u001b[0m\n\u001b[1;32m---> 14\u001b[1;33m \u001b[0ms\u001b[0m\u001b[1;33m.\u001b[0m\u001b[0mtalk\u001b[0m\u001b[1;33m(\u001b[0m\u001b[1;33m)\u001b[0m\u001b[1;33m;\u001b[0m\u001b[0ms1\u001b[0m\u001b[1;33m.\u001b[0m\u001b[0mtalk\u001b[0m\u001b[1;33m(\u001b[0m\u001b[1;33m)\u001b[0m\u001b[1;33m;\u001b[0m\u001b[0ms1\u001b[0m\u001b[1;33m.\u001b[0m\u001b[0minfo\u001b[0m\u001b[1;33m(\u001b[0m\u001b[1;33m)\u001b[0m\u001b[1;33m\u001b[0m\u001b[0m\n\u001b[0m",
      "\u001b[1;32m<ipython-input-63-982c9468543a>\u001b[0m in \u001b[0;36minfo\u001b[1;34m(self)\u001b[0m\n\u001b[0;32m      9\u001b[0m         \u001b[0mprint\u001b[0m\u001b[1;33m(\u001b[0m\u001b[0mself\u001b[0m\u001b[1;33m.\u001b[0m\u001b[0mname\u001b[0m\u001b[1;33m,\u001b[0m\u001b[0mself\u001b[0m\u001b[1;33m.\u001b[0m\u001b[0mage\u001b[0m\u001b[1;33m,\u001b[0m\u001b[0msalary\u001b[0m\u001b[1;33m)\u001b[0m\u001b[1;33m\u001b[0m\u001b[0m\n\u001b[0;32m     10\u001b[0m     \u001b[1;32mdef\u001b[0m \u001b[0minfo\u001b[0m\u001b[1;33m(\u001b[0m\u001b[0mself\u001b[0m\u001b[1;33m)\u001b[0m\u001b[1;33m:\u001b[0m\u001b[1;33m\u001b[0m\u001b[0m\n\u001b[1;32m---> 11\u001b[1;33m         \u001b[0mprint\u001b[0m\u001b[1;33m(\u001b[0m\u001b[0msalary\u001b[0m\u001b[1;33m)\u001b[0m\u001b[1;33m\u001b[0m\u001b[0m\n\u001b[0m\u001b[0;32m     12\u001b[0m \u001b[0ms\u001b[0m\u001b[1;33m=\u001b[0m\u001b[0mcricketer\u001b[0m\u001b[1;33m(\u001b[0m\u001b[1;34m'kohli'\u001b[0m\u001b[1;33m,\u001b[0m\u001b[1;34m'34'\u001b[0m\u001b[1;33m,\u001b[0m\u001b[1;36m2243434\u001b[0m\u001b[1;33m,\u001b[0m\u001b[1;36m34343\u001b[0m\u001b[1;33m)\u001b[0m\u001b[1;33m\u001b[0m\u001b[0m\n\u001b[0;32m     13\u001b[0m \u001b[0ms1\u001b[0m\u001b[1;33m=\u001b[0m\u001b[0mcricketer\u001b[0m\u001b[1;33m(\u001b[0m\u001b[1;34m'Dhoni'\u001b[0m\u001b[1;33m,\u001b[0m\u001b[1;34m'40'\u001b[0m\u001b[1;33m,\u001b[0m\u001b[1;36m5243434\u001b[0m\u001b[1;33m,\u001b[0m\u001b[1;36m4343\u001b[0m\u001b[1;33m)\u001b[0m\u001b[1;33m\u001b[0m\u001b[0m\n",
      "\u001b[1;31mNameError\u001b[0m: name 'salary' is not defined"
     ]
    }
   ],
   "source": [
    "class cricketer:\n",
    "    def __init__(self,name,age,bat,bowl):\n",
    "        self.name=name\n",
    "        self.age=age\n",
    "        self.batscore=bat\n",
    "        self.bowlwic=bowl\n",
    "    def talk(self):\n",
    "        salary=self.batscore*0.6+self.bowlwic*0.4\n",
    "        print(self.name,self.age,salary)\n",
    "    def info(self):\n",
    "        print(salary)\n",
    "s=cricketer('kohli','34',2243434,34343)\n",
    "s1=cricketer('Dhoni','40',5243434,4343)\n",
    "s.talk();s1.talk();s1.info()"
   ]
  },
  {
   "cell_type": "markdown",
   "metadata": {},
   "source": [
    "## Types of methods"
   ]
  },
  {
   "cell_type": "markdown",
   "metadata": {},
   "source": [
    "instance methods          \n",
    "class methods       \n",
    "static methods "
   ]
  },
  {
   "cell_type": "markdown",
   "metadata": {},
   "source": [
    "### Instance method"
   ]
  },
  {
   "cell_type": "markdown",
   "metadata": {},
   "source": [
    "the methods which has or which uses even a single instance variable then the method is called instance method      \n",
    "Instance methods are the methods which talks about object        \n",
    "self is passed as default argument for every instance method.(self is a reference variable for current object)         \n",
    "inside we use self for accessing the data outside we use object reference"
   ]
  },
  {
   "cell_type": "code",
   "execution_count": 3,
   "metadata": {},
   "outputs": [
    {
     "name": "stdout",
     "output_type": "stream",
     "text": [
      "Dhoni 40\n",
      "Dhoni\n"
     ]
    }
   ],
   "source": [
    "class cricketer:\n",
    "    def __init__(self,name,age):\n",
    "        self.name=name\n",
    "        self.age=age#inside using self\n",
    "        \n",
    "    #this is how to initialize\n",
    "    def talk(self):#instance method  \n",
    "        print(self.name,self.age)\n",
    "\n",
    "s=cricketer('Dhoni','40')\n",
    "s.talk()\n",
    "print(s.name)#outside the class using object reference"
   ]
  },
  {
   "cell_type": "markdown",
   "metadata": {},
   "source": [
    "#### how to call"
   ]
  },
  {
   "cell_type": "code",
   "execution_count": 9,
   "metadata": {},
   "outputs": [
    {
     "name": "stdout",
     "output_type": "stream",
     "text": [
      "Dhoni 40\n",
      "Dhoni\n"
     ]
    }
   ],
   "source": [
    "#outside the class using object reference\n",
    "class cricketer:\n",
    "    def __init__(self,name,age):\n",
    "        self.name=name\n",
    "        self.age=age\n",
    "    def talk(self):\n",
    "        print(self.name,self.age)\n",
    "\n",
    "s=cricketer('Dhoni','40')\n",
    "s.talk()\n",
    "print(s.name)#outside the class using object reference"
   ]
  },
  {
   "cell_type": "code",
   "execution_count": 13,
   "metadata": {},
   "outputs": [
    {
     "name": "stdout",
     "output_type": "stream",
     "text": [
      "hi am Dhoni and my age is 40 and am going to play for my team\n"
     ]
    }
   ],
   "source": [
    "#inside the constructor and instance method using self\n",
    "class cricketer:\n",
    "    def __init__(self,name,age):\n",
    "        self.name=name\n",
    "        self.age=age\n",
    "        self.talk()\n",
    "    def talk(self):\n",
    "        self.play()\n",
    "    def play(self):\n",
    "        print(\"hi am \"+self.name+\" and my age is \"+self.age+\" and am going to play for my team\")\n",
    "\n",
    "s=cricketer('Dhoni','40')"
   ]
  },
  {
   "cell_type": "markdown",
   "metadata": {},
   "source": [
    "we can call the mehtods using class name if we dont have the same named static methods and we must pass self as argument \n",
    "\n",
    "NOTE:only inside constructor and instace methods"
   ]
  },
  {
   "cell_type": "code",
   "execution_count": 16,
   "metadata": {},
   "outputs": [
    {
     "name": "stdout",
     "output_type": "stream",
     "text": [
      "hi am Dhoni and my age is 40 and am going to play for my team\n"
     ]
    }
   ],
   "source": [
    "class cricketer:\n",
    "    def __init__(self,name,age):\n",
    "        self.name=name\n",
    "        self.age=age\n",
    "        cricketer.talk(self)\n",
    "    def talk(self):\n",
    "        cricketer.play(self)\n",
    "    def play(self):\n",
    "        print(\"hi am \"+self.name+\" and my age is \"+self.age+\" and am going to play for my team\")\n",
    "s=cricketer('Dhoni','40')"
   ]
  },
  {
   "cell_type": "markdown",
   "metadata": {},
   "source": [
    "what if we dont pass self in above case?          \n",
    " we will end up with a error"
   ]
  },
  {
   "cell_type": "code",
   "execution_count": 17,
   "metadata": {},
   "outputs": [
    {
     "ename": "TypeError",
     "evalue": "talk() missing 1 required positional argument: 'self'",
     "output_type": "error",
     "traceback": [
      "\u001b[1;31m---------------------------------------------------------------------------\u001b[0m",
      "\u001b[1;31mTypeError\u001b[0m                                 Traceback (most recent call last)",
      "\u001b[1;32m<ipython-input-17-db94c900c45d>\u001b[0m in \u001b[0;36m<module>\u001b[1;34m()\u001b[0m\n\u001b[0;32m      8\u001b[0m     \u001b[1;32mdef\u001b[0m \u001b[0mplay\u001b[0m\u001b[1;33m(\u001b[0m\u001b[0mself\u001b[0m\u001b[1;33m)\u001b[0m\u001b[1;33m:\u001b[0m\u001b[1;33m\u001b[0m\u001b[0m\n\u001b[0;32m      9\u001b[0m         \u001b[0mprint\u001b[0m\u001b[1;33m(\u001b[0m\u001b[1;34m\"hi am \"\u001b[0m\u001b[1;33m+\u001b[0m\u001b[0mself\u001b[0m\u001b[1;33m.\u001b[0m\u001b[0mname\u001b[0m\u001b[1;33m+\u001b[0m\u001b[1;34m\" and my age is \"\u001b[0m\u001b[1;33m+\u001b[0m\u001b[0mself\u001b[0m\u001b[1;33m.\u001b[0m\u001b[0mage\u001b[0m\u001b[1;33m+\u001b[0m\u001b[1;34m\" and am going to play for my team\"\u001b[0m\u001b[1;33m)\u001b[0m\u001b[1;33m\u001b[0m\u001b[0m\n\u001b[1;32m---> 10\u001b[1;33m \u001b[0ms\u001b[0m\u001b[1;33m=\u001b[0m\u001b[0mcricketer\u001b[0m\u001b[1;33m(\u001b[0m\u001b[1;34m'Dhoni'\u001b[0m\u001b[1;33m,\u001b[0m\u001b[1;34m'40'\u001b[0m\u001b[1;33m)\u001b[0m\u001b[1;33m\u001b[0m\u001b[0m\n\u001b[0m",
      "\u001b[1;32m<ipython-input-17-db94c900c45d>\u001b[0m in \u001b[0;36m__init__\u001b[1;34m(self, name, age)\u001b[0m\n\u001b[0;32m      3\u001b[0m         \u001b[0mself\u001b[0m\u001b[1;33m.\u001b[0m\u001b[0mname\u001b[0m\u001b[1;33m=\u001b[0m\u001b[0mname\u001b[0m\u001b[1;33m\u001b[0m\u001b[0m\n\u001b[0;32m      4\u001b[0m         \u001b[0mself\u001b[0m\u001b[1;33m.\u001b[0m\u001b[0mage\u001b[0m\u001b[1;33m=\u001b[0m\u001b[0mage\u001b[0m\u001b[1;33m\u001b[0m\u001b[0m\n\u001b[1;32m----> 5\u001b[1;33m         \u001b[0mcricketer\u001b[0m\u001b[1;33m.\u001b[0m\u001b[0mtalk\u001b[0m\u001b[1;33m(\u001b[0m\u001b[1;33m)\u001b[0m\u001b[1;33m\u001b[0m\u001b[0m\n\u001b[0m\u001b[0;32m      6\u001b[0m     \u001b[1;32mdef\u001b[0m \u001b[0mtalk\u001b[0m\u001b[1;33m(\u001b[0m\u001b[0mself\u001b[0m\u001b[1;33m)\u001b[0m\u001b[1;33m:\u001b[0m\u001b[1;33m\u001b[0m\u001b[0m\n\u001b[0;32m      7\u001b[0m         \u001b[0mcricketer\u001b[0m\u001b[1;33m.\u001b[0m\u001b[0mplay\u001b[0m\u001b[1;33m(\u001b[0m\u001b[1;33m)\u001b[0m\u001b[1;33m\u001b[0m\u001b[0m\n",
      "\u001b[1;31mTypeError\u001b[0m: talk() missing 1 required positional argument: 'self'"
     ]
    }
   ],
   "source": [
    "class cricketer:\n",
    "    def __init__(self,name,age):\n",
    "        self.name=name\n",
    "        self.age=age\n",
    "        cricketer.talk()\n",
    "    def talk(self):\n",
    "        cricketer.play()\n",
    "    def play(self):\n",
    "        print(\"hi am \"+self.name+\" and my age is \"+self.age+\" and am going to play for my team\")\n",
    "s=cricketer('Dhoni','40')"
   ]
  },
  {
   "cell_type": "markdown",
   "metadata": {},
   "source": [
    "NOTE:WE CANNOT CALL INSTANCE METHODS FROM INSIDE A STATIC OR CLASS METHODS"
   ]
  },
  {
   "cell_type": "markdown",
   "metadata": {},
   "source": [
    "##### setter and getter methods are best examples of instace methods"
   ]
  },
  {
   "cell_type": "code",
   "execution_count": 26,
   "metadata": {},
   "outputs": [
    {
     "name": "stdout",
     "output_type": "stream",
     "text": [
      "enter name: a\n",
      "Enter age: 3\n",
      "a\n",
      "3\n"
     ]
    }
   ],
   "source": [
    "#these is higly used methods\n",
    "class cricketer:\n",
    "    def setName(self,name):\n",
    "        self.name=name\n",
    "    def getName(self):\n",
    "        return self.name\n",
    "    def setAge(self,age):\n",
    "        self.age=age\n",
    "    def getAge(self):\n",
    "        return self.age\n",
    "s=cricketer()\n",
    "name=input(\"enter name: \")\n",
    "age=int(input(\"Enter age: \"))\n",
    "s.setName(name)\n",
    "print(s.getName())\n",
    "s.setAge(age)\n",
    "print(s.getAge())"
   ]
  },
  {
   "cell_type": "markdown",
   "metadata": {},
   "source": [
    "WHAT IS THE USE OF GETTER AND SETTER METHOD ?"
   ]
  },
  {
   "cell_type": "markdown",
   "metadata": {},
   "source": [
    "getter and setter methods provides us the chance to add security..      \n",
    "that is  if anyone outside the class can call a instance variable by using object referece (ex:s.name)       \n",
    "but if u use getter method (ex: s.getName()).then u can add validation in getName method before enclosing the name data     \n",
    "this concept is also know as encapsulation"
   ]
  },
  {
   "cell_type": "markdown",
   "metadata": {},
   "source": [
    "### class methods       "
   ]
  },
  {
   "cell_type": "markdown",
   "metadata": {},
   "source": [
    "the method which  has only static variables, but no single instance variabe,then the method is called class method and      \n",
    "it should contain a @classmethod decorater before  the class method.     \n",
    "and we will pass class object reference variable to the class mehtod       \n",
    "Note:   class object is created for every class once.And this class object  is diffrent from normal objects.       \n",
    "the class object is used to  refer the class level  variables(static variables) \n",
    "*****************************************************************************************************\n",
    "******************************************************************************************************\n",
    "###### NOTE:  the main benifit of class methods is that we can use them without creating a object"
   ]
  },
  {
   "cell_type": "code",
   "execution_count": 4,
   "metadata": {},
   "outputs": [
    {
     "name": "stdout",
     "output_type": "stream",
     "text": [
      "Rahul Dravid\n",
      "India\n"
     ]
    }
   ],
   "source": [
    "#inside a class method using the cls or class name\n",
    "class cricketer:\n",
    "    team=\"India\"\n",
    "    coach=\"Rahul Dravid\"\n",
    "    def __init__(self,name,age):\n",
    "        self.name=name\n",
    "        self.age=age\n",
    "    def talk(self):\n",
    "        print(self.name)\n",
    "        print(self.age)\n",
    "    @classmethod\n",
    "    def teaminfo(cls):\n",
    "        print(cricketer.coach)\n",
    "        print(cls.team)\n",
    "cricketer.teaminfo()#here we are able to use the class method without difinig a object"
   ]
  },
  {
   "cell_type": "markdown",
   "metadata": {},
   "source": [
    "#### here we can see in bellow example there will be only one class object irrespective of number of objects created"
   ]
  },
  {
   "cell_type": "code",
   "execution_count": 28,
   "metadata": {},
   "outputs": [
    {
     "name": "stdout",
     "output_type": "stream",
     "text": [
      "2177868390184\n",
      "2177868390184\n",
      "2177868390184\n"
     ]
    }
   ],
   "source": [
    "class cricketer:\n",
    "    team=\"India\"\n",
    "    coach=\"Rahul Dravid\"\n",
    "    def __init__(self,name,age,bat,bowl):\n",
    "        self.name=name\n",
    "        self.age=age\n",
    "        self.batscore=bat\n",
    "        self.bowlwic=bowl\n",
    "    def talk(self):\n",
    "        print(self.name,self.age)\n",
    "    @classmethod \n",
    "    def teaminfo(cls):\n",
    "        print(id(cls))\n",
    "    @classmethod \n",
    "    def coachinfo(cls):\n",
    "        print(id(cls))\n",
    "\n",
    "s1=crickter('Dhoni','40','5243434','74343')\n",
    "print(id(cricketer))\n",
    "cricketer.teaminfo()\n",
    "cricketer.coachinfo()"
   ]
  },
  {
   "cell_type": "markdown",
   "metadata": {},
   "source": [
    "##### accessing class methods                  \n",
    "\n",
    "we can access class methods from anythere by using class name.. but in class methods we can also access using cls(class object reference variable)                   \n",
    "and             \n",
    "In ouside the class we can also use object reference if there is no instace method with same name"
   ]
  },
  {
   "cell_type": "code",
   "execution_count": 9,
   "metadata": {},
   "outputs": [
    {
     "name": "stdout",
     "output_type": "stream",
     "text": [
      "hi am Rahul Dravid and am the coach of Indiaan team\n",
      "hi am Rahul Dravid and am the coach of Indiaan team\n",
      "hi am Rahul Dravid and am the coach of Indiaan team\n",
      "hi am Rahul Dravid and am the coach of Indiaan team\n",
      "hi am Rahul Dravid and am the coach of Indiaan team\n",
      "hi am Rahul Dravid and am the coach of Indiaan team\n",
      "hi am Rahul Dravid and am the coach of Indiaan team\n"
     ]
    }
   ],
   "source": [
    "class cricketer:\n",
    "    team=\"India\"\n",
    "    coach=\"Rahul Dravid\"\n",
    "    def __init__(self,name,age):\n",
    "        self.name=name\n",
    "        self.age=age\n",
    "        cricketer.coachinfo()\n",
    "    def talk(self):\n",
    "        cricketer.coachinfo()\n",
    "    @classmethod \n",
    "    def teaminfo(cls):\n",
    "        cricketer.coachinfo()\n",
    "        cls.coachinfo()\n",
    "    @staticmethod\n",
    "    def hello():\n",
    "        cricketer.coachinfo()\n",
    "    @classmethod\n",
    "    def coachinfo(cls):\n",
    "        print(\"hi am \"+cricketer.coach+\" and am the coach of \"+cls.team+\"an team\")\n",
    "s=cricketer(\"Dhoni\",40)\n",
    "cricketer.coachinfo()\n",
    "s.talk()\n",
    "s.teaminfo()\n",
    "cricketer.hello()\n",
    "s.coachinfo()#using object reference"
   ]
  },
  {
   "cell_type": "markdown",
   "metadata": {},
   "source": [
    "### static methods"
   ]
  },
  {
   "cell_type": "markdown",
   "metadata": {},
   "source": [
    "the method which does not have a static or instance variables then it is called static methods           \n",
    "for static methods the @static method decorator is not mandatory             \n",
    "And static methods are identified by calling them using class name "
   ]
  },
  {
   "cell_type": "code",
   "execution_count": 31,
   "metadata": {},
   "outputs": [
    {
     "data": {
      "text/plain": [
       "25"
      ]
     },
     "execution_count": 31,
     "metadata": {},
     "output_type": "execute_result"
    }
   ],
   "source": [
    "class square:\n",
    "    @staticmethod\n",
    "    def nsquare(n):\n",
    "        return n**2\n",
    "s=square()\n",
    "square.nsquare(5)"
   ]
  },
  {
   "cell_type": "code",
   "execution_count": 7,
   "metadata": {},
   "outputs": [
    {
     "ename": "TypeError",
     "evalue": "nsquare() takes 0 positional arguments but 1 was given",
     "output_type": "error",
     "traceback": [
      "\u001b[1;31m---------------------------------------------------------------------------\u001b[0m",
      "\u001b[1;31mTypeError\u001b[0m                                 Traceback (most recent call last)",
      "\u001b[1;32m<ipython-input-7-16075d8d62bb>\u001b[0m in \u001b[0;36m<module>\u001b[1;34m()\u001b[0m\n\u001b[0;32m      4\u001b[0m         \u001b[0mprint\u001b[0m\u001b[1;33m(\u001b[0m\u001b[1;34m\"square\"\u001b[0m\u001b[1;33m)\u001b[0m\u001b[1;33m\u001b[0m\u001b[0m\n\u001b[0;32m      5\u001b[0m \u001b[0ms\u001b[0m\u001b[1;33m=\u001b[0m\u001b[0msquare\u001b[0m\u001b[1;33m(\u001b[0m\u001b[1;33m)\u001b[0m\u001b[1;33m\u001b[0m\u001b[0m\n\u001b[1;32m----> 6\u001b[1;33m \u001b[0ms\u001b[0m\u001b[1;33m.\u001b[0m\u001b[0mnsquare\u001b[0m\u001b[1;33m(\u001b[0m\u001b[1;33m)\u001b[0m\u001b[1;33m\u001b[0m\u001b[0m\n\u001b[0m",
      "\u001b[1;31mTypeError\u001b[0m: nsquare() takes 0 positional arguments but 1 was given"
     ]
    }
   ],
   "source": [
    "#if u call them using object reference you will get error beacuse by default PVM assume it as instance method\n",
    "class square:\n",
    "    def nsquare():\n",
    "        print(\"square\")\n",
    "s=square()\n",
    "s.nsquare()"
   ]
  },
  {
   "cell_type": "code",
   "execution_count": 9,
   "metadata": {},
   "outputs": [
    {
     "name": "stdout",
     "output_type": "stream",
     "text": [
      "square\n"
     ]
    }
   ],
   "source": [
    "#here we said that it is a static mehtod using decorator so no issue\n",
    "class square:\n",
    "    @staticmethod\n",
    "    def nsquare():\n",
    "        print(\"square\")\n",
    "s=square()\n",
    "s.nsquare()"
   ]
  },
  {
   "cell_type": "markdown",
   "metadata": {},
   "source": [
    "### we can access one members of a class in another class "
   ]
  },
  {
   "cell_type": "code",
   "execution_count": 11,
   "metadata": {},
   "outputs": [
    {
     "name": "stdout",
     "output_type": "stream",
     "text": [
      "Am buying a player named Dhoni\n",
      "his details are \n",
      "Dhoni\n",
      "40\n",
      "male\n"
     ]
    }
   ],
   "source": [
    "class India:\n",
    "    def __init__(self,plname,plage,plgender):\n",
    "        self.plname=plname\n",
    "        self.plage=plage\n",
    "        self.plgender=plgender\n",
    "    def show(self):\n",
    "        print(self.plname)\n",
    "        print(self.plage)\n",
    "        print(self.plgender)\n",
    "s=India(\"Dhoni\",40,\"male\")\n",
    "class csk:\n",
    "    def buyplayer(pl):\n",
    "        print(\"Am buying a player named \"+pl.plname)\n",
    "        print(\"his details are \")\n",
    "        pl.show()\n",
    "a=csk()\n",
    "csk.buyplayer(s)"
   ]
  },
  {
   "cell_type": "markdown",
   "metadata": {},
   "source": [
    "## Inner Classes"
   ]
  },
  {
   "cell_type": "markdown",
   "metadata": {},
   "source": [
    "the class which is declared inside another class is called inner class          \n",
    "WHEN WE GO FOR INNER CLASSES?           \n",
    "when one object cannot exist without another object then we should go for inner classes"
   ]
  },
  {
   "cell_type": "markdown",
   "metadata": {},
   "source": [
    "example is:: processor without laptop        \n",
    "here in example laptop is outer class and processor is inner class             \n",
    "example2:house without land       \n",
    "here land is outer class house is inner class \n",
    "example 3:Department without a college                     \n",
    "college is outer class obj and department inner class object\n",
    "                 "
   ]
  },
  {
   "cell_type": "markdown",
   "metadata": {},
   "source": [
    "Any number of inner class can be possible for a outer class"
   ]
  },
  {
   "cell_type": "markdown",
   "metadata": {},
   "source": [
    "##### In this way we call methods of inner object..."
   ]
  },
  {
   "cell_type": "code",
   "execution_count": 16,
   "metadata": {},
   "outputs": [
    {
     "name": "stdout",
     "output_type": "stream",
     "text": [
      "Am laptop\n",
      "i am processor of version i5\n"
     ]
    }
   ],
   "source": [
    "class laptop:\n",
    "    def __init__(self):\n",
    "        print(\"Am laptop\")\n",
    "    class processor:\n",
    "        def __init__(self):\n",
    "            self.version='i5'\n",
    "        def display(self):\n",
    "            print(\"i am processor of version \"+self.version)\n",
    "l=laptop()\n",
    "p=l.processor()\n",
    "p.display()"
   ]
  },
  {
   "cell_type": "code",
   "execution_count": 23,
   "metadata": {},
   "outputs": [
    {
     "name": "stdout",
     "output_type": "stream",
     "text": [
      "Am laptop\n",
      "i am processor of version i5\n"
     ]
    }
   ],
   "source": [
    "#we can do same thing like this\n",
    "class laptop:\n",
    "    def __init__(self):\n",
    "        print(\"Am laptop\")\n",
    "    class processor:\n",
    "        def __init__(self):\n",
    "            self.version='i5'\n",
    "        def display(self):\n",
    "            print(\"i am processor of version \"+self.version)\n",
    "laptop().processor().display()"
   ]
  },
  {
   "cell_type": "markdown",
   "metadata": {},
   "source": [
    "##### we cannot call inner object without creating outer object"
   ]
  },
  {
   "cell_type": "code",
   "execution_count": 21,
   "metadata": {},
   "outputs": [
    {
     "ename": "NameError",
     "evalue": "name 'processor' is not defined",
     "output_type": "error",
     "traceback": [
      "\u001b[1;31m---------------------------------------------------------------------------\u001b[0m",
      "\u001b[1;31mNameError\u001b[0m                                 Traceback (most recent call last)",
      "\u001b[1;32m<ipython-input-21-b64d40eb4c5a>\u001b[0m in \u001b[0;36m<module>\u001b[1;34m()\u001b[0m\n\u001b[0;32m      7\u001b[0m         \u001b[1;32mdef\u001b[0m \u001b[0mdisplay\u001b[0m\u001b[1;33m(\u001b[0m\u001b[0mself\u001b[0m\u001b[1;33m)\u001b[0m\u001b[1;33m:\u001b[0m\u001b[1;33m\u001b[0m\u001b[0m\n\u001b[0;32m      8\u001b[0m             \u001b[0mprint\u001b[0m\u001b[1;33m(\u001b[0m\u001b[1;34m\"i am processor of version \"\u001b[0m\u001b[1;33m+\u001b[0m\u001b[0mself\u001b[0m\u001b[1;33m.\u001b[0m\u001b[0mversion\u001b[0m\u001b[1;33m)\u001b[0m\u001b[1;33m\u001b[0m\u001b[0m\n\u001b[1;32m----> 9\u001b[1;33m \u001b[0mp\u001b[0m\u001b[1;33m=\u001b[0m\u001b[0mprocessor\u001b[0m\u001b[1;33m(\u001b[0m\u001b[1;33m)\u001b[0m\u001b[1;33m\u001b[0m\u001b[0m\n\u001b[0m\u001b[0;32m     10\u001b[0m \u001b[0mp\u001b[0m\u001b[1;33m.\u001b[0m\u001b[0mdisplay\u001b[0m\u001b[1;33m(\u001b[0m\u001b[1;33m)\u001b[0m\u001b[1;33m\u001b[0m\u001b[0m\n",
      "\u001b[1;31mNameError\u001b[0m: name 'processor' is not defined"
     ]
    }
   ],
   "source": [
    "class laptop:\n",
    "    def __init__(self):\n",
    "        print(\"Am laptop\")\n",
    "    class processor:\n",
    "        def __init__(self):\n",
    "            self.version='i5'\n",
    "        def display(self):\n",
    "            print(\"i am processor of version \"+self.version)\n",
    "p=processor()\n",
    "p.display()"
   ]
  },
  {
   "cell_type": "code",
   "execution_count": 29,
   "metadata": {},
   "outputs": [
    {
     "name": "stdout",
     "output_type": "stream",
     "text": [
      "laptop\n",
      "i am processor of version i5\n"
     ]
    }
   ],
   "source": [
    "class laptop:\n",
    "    def __init__(self):\n",
    "        self.p=self.processor()\n",
    "    def show(self):\n",
    "        print(\"laptop\")\n",
    "        self.p.display() \n",
    "    class processor:\n",
    "        def __init__(self):\n",
    "            self.version='i5'\n",
    "        def display(self):\n",
    "            print(\"i am processor of version \"+self.version)\n",
    "l=laptop()\n",
    "l.show()"
   ]
  },
  {
   "cell_type": "code",
   "execution_count": 34,
   "metadata": {},
   "outputs": [
    {
     "name": "stdout",
     "output_type": "stream",
     "text": [
      "laptop\n",
      "i am processor of version i5\n",
      "am a smart dual core\n"
     ]
    }
   ],
   "source": [
    "class laptop:\n",
    "    def __init__(self):\n",
    "        self.p=self.processor()\n",
    "    def show(self):\n",
    "        print(\"laptop\")\n",
    "        self.p.display() \n",
    "    class processor:\n",
    "        def __init__(self):\n",
    "            self.version='i5'\n",
    "            self.c=self.core()\n",
    "        def display(self):\n",
    "            print(\"i am processor of version \"+self.version)\n",
    "            self.c.talk()\n",
    "        class core:\n",
    "            def __init__(self):\n",
    "                self.core=\"dual\"\n",
    "            def talk(self):\n",
    "                 print(\"am a smart \"+self.core+\" core\")\n",
    "                    \n",
    "                    \n",
    "l=laptop()\n",
    "l.show()"
   ]
  },
  {
   "cell_type": "code",
   "execution_count": null,
   "metadata": {},
   "outputs": [],
   "source": []
  }
 ],
 "metadata": {
  "kernelspec": {
   "display_name": "Python 3",
   "language": "python",
   "name": "python3"
  },
  "language_info": {
   "codemirror_mode": {
    "name": "ipython",
    "version": 3
   },
   "file_extension": ".py",
   "mimetype": "text/x-python",
   "name": "python",
   "nbconvert_exporter": "python",
   "pygments_lexer": "ipython3",
   "version": "3.6.5"
  }
 },
 "nbformat": 4,
 "nbformat_minor": 2
}
